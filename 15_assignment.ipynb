{
 "cells": [
  {
   "cell_type": "code",
   "execution_count": null,
   "metadata": {},
   "outputs": [],
   "source": [
    "1. Write a function that returns True if a given name can generate an array of\n",
    "words.\n",
    "Examples\n",
    "anagram(\"Justin Bieber\", [\"injures\", \"ebb\", \"it\"]) ➞ True \n",
    "anagram(\"Natalie Portman\", [\"ornamental\", \"pita\"]) ➞ True\n",
    "anagram(\"Chris Pratt\", [\"chirps\", \"rat\"]) ➞ False\n",
    "# Not all letters are used\n",
    "anagram(\"Jeff Goldblum\", [\"jog\", \"meld\", \"bluffs\"]) ➞ False\n",
    "# \"s\" does not exist in the original name"
   ]
  },
  {
   "cell_type": "code",
   "execution_count": 25,
   "metadata": {},
   "outputs": [
    {
     "name": "stdout",
     "output_type": "stream",
     "text": [
      "TRUE\n",
      "TRUE\n",
      "FALSE\n",
      "not all letter are used of original name : Chris Pratt\n",
      "FALSE\n",
      "s not exist in the original name : Jeff Goldblum\n"
     ]
    }
   ],
   "source": [
    "# program to solve the above program \n",
    "\n",
    "def anagram(string,lst:list):\n",
    "    temp = list()\n",
    "    \n",
    "    for s in string:\n",
    "        if s not in [' ',',','*']:\n",
    "            temp.append(s.lower())\n",
    "    \n",
    "    flag = 1\n",
    "    for l in lst:\n",
    "        for c in l:\n",
    "            if c in temp:\n",
    "                temp.remove(c)\n",
    "            else:\n",
    "                print('FALSE')\n",
    "                print(c ,'not exist in the original name :',string)\n",
    "                flag = 0\n",
    "                \n",
    "            \n",
    "    if len(temp) > 0:\n",
    "        print('FALSE')\n",
    "        print(\"not all letter are used of original name :\",string)\n",
    "        flag = 0\n",
    "    if flag == 1:\n",
    "        print('TRUE')\n",
    "            \n",
    "anagram(\"Justin Bieber\", [\"injures\", \"ebb\", \"it\"])\n",
    "anagram(\"Natalie Portman\", [\"ornamental\", \"pita\"])\n",
    "anagram(\"Chris Pratt\", [\"chirps\", \"rat\"])\n",
    "# Not all letters are used\n",
    "anagram(\"Jeff Goldblum\", [\"jog\", \"meld\", \"bluffs\"])\n",
    "# \"s\" does not exist in the original name"
   ]
  },
  {
   "cell_type": "code",
   "execution_count": null,
   "metadata": {},
   "outputs": [],
   "source": [
    "2. Given an array of users, each defined by an object with the following\n",
    "properties: name, score, reputation create a function that sorts the array to\n",
    "form the correct leaderboard.\n",
    "The leaderboard takes into consideration the score of each user of course,\n",
    "but an emphasis is put on their reputation in the community, so to get the\n",
    "trueScore, you should add the reputation multiplied by 2 to the score.\n",
    "Once you know the trueScore of each user, sort the array according to it in\n",
    "descending order.\n",
    "Examples\n",
    "leaderboards([\n",
    "{ \"name\": \"a\", \"score\": 100, \"reputation\": 20 },\n",
    "{ \"name\": \"b\", \"score\": 90, \"reputation\": 40 },\n",
    "{ \"name\": \"c\", \"score\": 115, \"reputation\": 30 }\n",
    "])\n",
    "➞ [\n",
    "{ \"name\": \"c\", \"score\": 115, \"reputation\": 30 }, # trueScore = 175\n",
    "{ \"name\": \"b\", \"score\": 90, \"reputation\": 40 }, # trueScore = 170\n",
    "{ \"name\": \"a\", \"score\": 100, \"reputation\": 20 }# trueScore = 140\n",
    "]"
   ]
  },
  {
   "cell_type": "code",
   "execution_count": 35,
   "metadata": {},
   "outputs": [
    {
     "data": {
      "text/plain": [
       "[{'name': 'c', 'score': 115, 'reputation': 30},\n",
       " {'name': 'b', 'score': 90, 'reputation': 40},\n",
       " {'name': 'a', 'score': 100, 'reputation': 20}]"
      ]
     },
     "execution_count": 35,
     "metadata": {},
     "output_type": "execute_result"
    }
   ],
   "source": [
    "# program to solve above problem statement\n",
    "\n",
    "def leaderboards(lst:list):\n",
    "    temp = list()\n",
    "    temp_list = list()\n",
    "    for l in lst:\n",
    "        s = l['score'] + (l['reputation'] * 2)\n",
    "        temp.append(s)\n",
    "    \n",
    "    temp.sort(reverse=True)\n",
    "    \n",
    "    for t in temp:\n",
    "        for l in lst:\n",
    "            s = l['score'] + (l['reputation'] * 2)\n",
    "            if t == s :\n",
    "                temp_list.append(l)\n",
    "                \n",
    "    return temp_list\n",
    "\n",
    "leaderboards([\n",
    "{ \"name\": \"a\", \"score\": 100, \"reputation\": 20 },\n",
    "{ \"name\": \"b\", \"score\": 90, \"reputation\": 40 },\n",
    "{ \"name\": \"c\", \"score\": 115, \"reputation\": 30 }\n",
    "])"
   ]
  },
  {
   "cell_type": "code",
   "execution_count": null,
   "metadata": {},
   "outputs": [],
   "source": [
    "3. Create a function that, given a phrase and a number of letters guessed,\n",
    "returns a string with hyphens - for every letter of the phrase not guessed, and\n",
    "each letter guessed in place.\n",
    "Examples\n",
    "hangman(\"helicopter\", [\"o\", \"e\", \"s\"]) ➞ \"-e---o--e-\"\n",
    "hangman(\"tree\", [\"r\", \"t\", \"e\"]) ➞ \"tree\"\n",
    "hangman(\"Python rules\", [\"a\", \"n\", \"p\", \"r\", \"z\"]) ➞ \"P----n r----\"\n",
    "hangman(\"He\"s a very naughty boy!\", [\"e\", \"a\", \"y\"]) ➞ \"-e\"- a -e-y -a----y –y!\""
   ]
  },
  {
   "cell_type": "code",
   "execution_count": 40,
   "metadata": {},
   "outputs": [
    {
     "name": "stdout",
     "output_type": "stream",
     "text": [
      "-e---o--e-\n",
      "tree\n",
      "-----n-r----\n",
      "-e---a--e-y--a----y---y-\n"
     ]
    }
   ],
   "source": [
    "# program to solve above problem statement\n",
    "\n",
    "def hangman(string,lst):\n",
    "    temp = ''\n",
    "    \n",
    "    for s in string:\n",
    "        if s not in lst:\n",
    "            temp += '-'\n",
    "        else:\n",
    "            temp += s\n",
    "            \n",
    "    print(temp)\n",
    "    \n",
    "hangman(\"helicopter\", [\"o\", \"e\", \"s\"])\n",
    "hangman(\"tree\", [\"r\", \"t\", \"e\"])\n",
    "hangman(\"Python rules\", [\"a\", \"n\", \"p\", \"r\", \"z\"])\n",
    "hangman(\"He\\\"s a very naughty boy!\", [\"e\", \"a\", \"y\"])"
   ]
  },
  {
   "cell_type": "code",
   "execution_count": null,
   "metadata": {},
   "outputs": [],
   "source": [
    "4. The Collatz sequence is as follows:\n",
    "- Start with some given integer n.\n",
    "- If it is even, the next number will be n divided by 2.\n",
    "- If it is odd, multiply it by 3 and add 1 to make the next number.\n",
    "- The sequence stops when it reaches 1.\n",
    "According to the Collatz conjecture, it will always reach 1. If that&#39;s true, you\n",
    "can construct a finite sequence following the aforementioned method for any\n",
    "given integer.\n",
    "Write a function that takes in an integer n and returns the highest integer in\n",
    "the corresponding Collatz sequence.\n",
    "Examples\n",
    "max_collatz(10) ➞ 16\n",
    "# Collatz sequence: 10, 5, 16, 8, 4, 2, 1\n",
    "max_collatz(32) ➞ 32\n",
    "# Collatz sequence: 32, 16, 8, 4, 2, 1\n",
    "max_collatz(85) ➞ 256\n",
    "# Collatz sequence: 85, 256, 128, 64, 32, 16, 8, 4, 2, 1"
   ]
  },
  {
   "cell_type": "code",
   "execution_count": 46,
   "metadata": {},
   "outputs": [
    {
     "name": "stdout",
     "output_type": "stream",
     "text": [
      "[5, 16, 8, 4, 2, 1]\n",
      "16\n",
      "[4, 2, 1]\n",
      "4\n",
      "[256, 128, 64, 32, 16, 8, 4, 2, 1]\n",
      "256\n"
     ]
    }
   ],
   "source": [
    "# program to solve the above problem statement\n",
    "\n",
    "def max_collatz(num):\n",
    "    temp = list()\n",
    "    \n",
    "    t = 0\n",
    "    while t != 1:\n",
    "        if num%2 == 0:\n",
    "            t = num // 2\n",
    "            temp.append(t)\n",
    "            num = t\n",
    "        else:\n",
    "            t = (num*3) + 1\n",
    "            temp.append(t)\n",
    "            num = t\n",
    "    print(temp)\n",
    "    print(max(temp))\n",
    "    \n",
    "max_collatz(10)\n",
    "max_collatz(1)\n",
    "max_collatz(85)"
   ]
  },
  {
   "cell_type": "code",
   "execution_count": null,
   "metadata": {},
   "outputs": [],
   "source": [
    "5. Write a function that sorts a list of integers by their digit length in\n",
    "descending order, then settles ties by sorting numbers with the same digit\n",
    "length in ascending order.\n",
    "Examples\n",
    "digit_sort([77, 23, 5, 7, 101])\n",
    "➞ [101, 23, 77, 5, 7]\n",
    "digit_sort([1, 5, 9, 2, 789, 563, 444])\n",
    "➞ [444, 563, 789, 1, 2, 5, 9]\n",
    "digit_sort([53219, 3772, 564, 32, 1])\n",
    "➞ [53219, 3772, 564, 32, 1]"
   ]
  },
  {
   "cell_type": "code",
   "execution_count": 51,
   "metadata": {},
   "outputs": [
    {
     "name": "stdout",
     "output_type": "stream",
     "text": [
      "[101, 23, 77, 5, 7]\n",
      "[444, 563, 789, 1, 2, 5, 9]\n",
      "[53219, 3772, 564, 32, 1]\n"
     ]
    }
   ],
   "source": [
    "# program to solve the above problem statement\n",
    "\n",
    "def digit_sort(lst):\n",
    "    temp = list()\n",
    "    dig = list()\n",
    "    \n",
    "    for l in lst:\n",
    "        dig.append(len(str(l)))\n",
    "    \n",
    "    dig = list(set(dig))\n",
    "    dig.sort(reverse=True)\n",
    "    \n",
    "    for d in dig:\n",
    "        te = list()\n",
    "        for l in lst:\n",
    "            if d == len(str(l)):\n",
    "                te.append(l)\n",
    "        te.sort()\n",
    "        for t in te:\n",
    "            temp.append(t)\n",
    "            \n",
    "    print(temp)\n",
    "digit_sort([77, 23, 5, 7, 101])\n",
    "#➞ [101, 23, 77, 5, 7]\n",
    "digit_sort([1, 5, 9, 2, 789, 563, 444])\n",
    "#➞ [444, 563, 789, 1, 2, 5, 9]\n",
    "digit_sort([53219, 3772, 564, 32, 1])\n",
    "#➞ [53219, 3772, 564, 32, 1]        "
   ]
  },
  {
   "cell_type": "code",
   "execution_count": null,
   "metadata": {},
   "outputs": [],
   "source": []
  },
  {
   "cell_type": "code",
   "execution_count": null,
   "metadata": {},
   "outputs": [],
   "source": []
  }
 ],
 "metadata": {
  "kernelspec": {
   "display_name": "Python 3",
   "language": "python",
   "name": "python3"
  },
  "language_info": {
   "codemirror_mode": {
    "name": "ipython",
    "version": 3
   },
   "file_extension": ".py",
   "mimetype": "text/x-python",
   "name": "python",
   "nbconvert_exporter": "python",
   "pygments_lexer": "ipython3",
   "version": "3.8.5"
  }
 },
 "nbformat": 4,
 "nbformat_minor": 4
}
