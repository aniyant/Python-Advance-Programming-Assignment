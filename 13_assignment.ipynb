{
 "cells": [
  {
   "cell_type": "code",
   "execution_count": null,
   "metadata": {},
   "outputs": [],
   "source": [
    "1. Create a function that takes a list and string. The function should remove\n",
    "the letters in the string from the list, and return the list.\n",
    "Examples\n",
    "remove_letters([\"s\", \"t\", \"r\", \"i\", \"n\", \"g\", \"w\"], \"string\") ➞ [\"w\"]\n",
    "remove_letters([\"b\", \"b\", \"l\", \"l\", \"g\", \"n\", \"o\", \"a\", \"w\"], \"balloon\") ➞ [\"b\", \"g\",\"w\"]\n",
    "remove_letters([\"d\", \"b\", \"t\", \"e\", \"a\", \"i\"], \"edabit\") ➞ []"
   ]
  },
  {
   "cell_type": "code",
   "execution_count": 9,
   "metadata": {},
   "outputs": [
    {
     "name": "stdout",
     "output_type": "stream",
     "text": [
      "['w']\n",
      "['g', 'w']\n",
      "[]\n"
     ]
    }
   ],
   "source": [
    "# program to solve the above problem statment\n",
    "\n",
    "def remove_letters(lst,string):\n",
    "    temp = lst.copy()\n",
    "    for l in lst:\n",
    "        if l in string:\n",
    "            \n",
    "            temp.remove(l)\n",
    "            \n",
    "    print(temp)\n",
    "\n",
    "remove_letters([\"s\", \"t\", \"r\", \"i\", \"n\", \"g\", \"w\"], \"string\")\n",
    "remove_letters([\"b\", \"b\", \"l\", \"l\", \"g\", \"n\", \"o\", \"a\", \"w\"], \"balloon\") \n",
    "remove_letters([\"d\", \"b\", \"t\", \"e\", \"a\", \"i\"], \"edabit\") \n"
   ]
  },
  {
   "cell_type": "code",
   "execution_count": null,
   "metadata": {},
   "outputs": [],
   "source": [
    "2. A block sequence in three dimensions. We can write a formula for this one:\n",
    "\n",
    "Create a function that takes a number (step) as an argument and returns the\n",
    "amount of blocks in that step.\n",
    "Examples\n",
    "blocks(1) ➞ 5\n",
    "blocks(5) ➞ 39\n",
    "blocks(2) ➞ 12"
   ]
  },
  {
   "cell_type": "code",
   "execution_count": 10,
   "metadata": {},
   "outputs": [
    {
     "name": "stdout",
     "output_type": "stream",
     "text": [
      "no of blocks : 5\n",
      "no of blocks : 39\n",
      "no of blocks : 12\n"
     ]
    }
   ],
   "source": [
    "# program to solve the above problem statement\n",
    "\n",
    "def blocks(n):\n",
    "    blocks = n*5\n",
    "    \n",
    "    if n == 1:\n",
    "        print(\"no of blocks :\",blocks)\n",
    "    elif n > 1:\n",
    "        for i in range(2,n+1):\n",
    "            blocks += i\n",
    "        print(\"no of blocks :\",blocks)\n",
    "    else:\n",
    "        print('something is wrong.')\n",
    "\n",
    "blocks(1)\n",
    "blocks(5)\n",
    "blocks(2)"
   ]
  },
  {
   "cell_type": "code",
   "execution_count": null,
   "metadata": {},
   "outputs": [],
   "source": [
    "3. Create a function that subtracts one positive integer from another, without\n",
    "using any arithmetic operators such as -, %, /, +, etc.\n",
    "Examples\n",
    "my_sub(5, 9) ➞ 4\n",
    "my_sub(10, 30) ➞ 20\n",
    "my_sub(0, 0) ➞ 0"
   ]
  },
  {
   "cell_type": "code",
   "execution_count": 45,
   "metadata": {},
   "outputs": [
    {
     "name": "stdout",
     "output_type": "stream",
     "text": [
      "4\n",
      "20\n",
      "0\n"
     ]
    }
   ],
   "source": [
    "# program to solve above problem statement\n",
    "\n",
    "def my_sub(x,y):\n",
    "    if x < y:\n",
    "        x,y = y,x\n",
    "    if (y == 0):\n",
    "        return x\n",
    "    return my_sub(x ^ y, (~x & y) << 1)\n",
    " \n",
    "    \n",
    "print(my_sub(5, 9))\n",
    "print(my_sub(10, 30)) \n",
    "print(my_sub(0, 0))"
   ]
  },
  {
   "cell_type": "code",
   "execution_count": null,
   "metadata": {},
   "outputs": [],
   "source": [
    "4. Create a function that takes a string containing money in dollars and\n",
    "pounds sterling (seperated by comma) and returns the sum of dollar bills only,\n",
    "as an integer.\n",
    "For the input string:\n",
    "- Each amount is prefixed by the currency symbol: $ for dollars and £ for\n",
    "pounds.\n",
    "- Thousands are represented by the suffix k.\n",
    "i.e. $4k = $4,000 and £40k = £40,000\n",
    "Examples\n",
    "add_bill(\"d20,p40,p60,d50\") ➞ 20 + 50 = 70\n",
    "add_bill(\"p30,d20,p60,d150,p360\") ➞ 20 + 150 = 170\n",
    "add_bill(\"p30,d2k,p60,d200,p360\") ➞ 2 * 1000 + 200 = 2200"
   ]
  },
  {
   "cell_type": "code",
   "execution_count": 62,
   "metadata": {},
   "outputs": [
    {
     "name": "stdout",
     "output_type": "stream",
     "text": [
      "sum :  70\n",
      "sum :  170\n",
      "sum :  2200\n"
     ]
    }
   ],
   "source": [
    "# program to solve the above problem statements\n",
    "\n",
    "def add_bill(string):\n",
    "    bills = string.split(',')\n",
    "    total_bills = []\n",
    "    for b in bills:\n",
    "        bill = ''\n",
    "        if 'd' in b:\n",
    "            if 'k' in b:\n",
    "                bill = b[1:len(b) - 1]\n",
    "                total_bills.append(int(bill)*1000)\n",
    "                \n",
    "                \n",
    "            else:\n",
    "                bill = b[1:]\n",
    "                total_bills.append(int(bill))\n",
    "                \n",
    "    print(\"sum : \",sum(total_bills)) \n",
    "\n",
    "\n",
    "add_bill(\"d20,p40,p60,d50\") \n",
    "add_bill(\"p30,d20,p60,d150,p360\") \n",
    "add_bill(\"p30,d2k,p60,d200,p360\")     "
   ]
  },
  {
   "cell_type": "code",
   "execution_count": null,
   "metadata": {},
   "outputs": [],
   "source": [
    "5. Create a function that flips a horizontal list into a vertical list, and a vertical\n",
    "list into a horizontal list.\n",
    "In other words, take an 1 x n list (1 row + n columns) and flip it into a n x 1 list\n",
    "(n rows and 1 column), and vice versa.\n",
    "Examples\n",
    "flip_list([1, 2, 3, 4]) ➞ [[1], [2], [3], [4]]\n",
    "# Take a horizontal list and flip it vertical.\n",
    "flip_list([[5], [6], [9]]) ➞ [5, 6, 9]\n",
    "# Take a vertical list and flip it horizontal.\n",
    "flip_list([]) ➞ []"
   ]
  },
  {
   "cell_type": "code",
   "execution_count": 68,
   "metadata": {},
   "outputs": [
    {
     "name": "stdout",
     "output_type": "stream",
     "text": [
      "[[1], [2], [3], [4]]\n",
      "[5, 6, 9]\n"
     ]
    },
    {
     "data": {
      "text/plain": [
       "[]"
      ]
     },
     "execution_count": 68,
     "metadata": {},
     "output_type": "execute_result"
    }
   ],
   "source": [
    "# program to solve above problem statemend\n",
    "\n",
    "def flip_list(lst):\n",
    "    if len(lst) == 0:\n",
    "        return []\n",
    "    \n",
    "    if type(lst[0]) == list:\n",
    "        temp = []\n",
    "        for l in lst:\n",
    "            for t in l:\n",
    "                temp.append(t)\n",
    "                \n",
    "        print(temp)\n",
    "    \n",
    "    else:\n",
    "        temp = []\n",
    "        for l in lst:\n",
    "            temp2 = [] \n",
    "            temp2.append(l)\n",
    "            temp.append(temp2)\n",
    "            \n",
    "        print(temp)\n",
    "    \n",
    "    \n",
    "    \n",
    "flip_list([1, 2, 3, 4])\n",
    "# Take a horizontal list and flip it vertical.\n",
    "flip_list([[5], [6], [9]])\n",
    "# Take a vertical list and flip it horizontal.\n",
    "flip_list([])"
   ]
  },
  {
   "cell_type": "code",
   "execution_count": null,
   "metadata": {},
   "outputs": [],
   "source": []
  }
 ],
 "metadata": {
  "kernelspec": {
   "display_name": "Python 3",
   "language": "python",
   "name": "python3"
  },
  "language_info": {
   "codemirror_mode": {
    "name": "ipython",
    "version": 3
   },
   "file_extension": ".py",
   "mimetype": "text/x-python",
   "name": "python",
   "nbconvert_exporter": "python",
   "pygments_lexer": "ipython3",
   "version": "3.8.5"
  }
 },
 "nbformat": 4,
 "nbformat_minor": 4
}
