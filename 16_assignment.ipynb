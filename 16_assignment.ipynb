{
 "cells": [
  {
   "cell_type": "code",
   "execution_count": null,
   "metadata": {},
   "outputs": [],
   "source": [
    "1. Rondo Form is a type of musical structure, in which there is a recurring\n",
    "theme/refrain, notated as A. Here are the rules for valid rondo forms:\n",
    "- Rondo forms always start and end with an A section.\n",
    "- In between the A sections, there should be contrasting sections notated as\n",
    "B, then C, then D, etc... No letter should be skipped.\n",
    "- There shouldn&#39;t be any repeats in the sequence (such as ABBACCA).\n",
    "Create a function which validates whether a given string is a valid Rondo\n",
    "Form.\n",
    "Examples\n",
    "valid_rondo(\"ABACADAEAFAGAHAIAJA\";) ➞ True\n",
    "valid_rondo(\"ABA\";) ➞ True\n",
    "valid_rondo(\"ABBACCA\";) ➞ False\n",
    "valid_rondo(\"ACAC\";) ➞ False\n",
    "valid_rondo(\"A\";) ➞ False"
   ]
  },
  {
   "cell_type": "code",
   "execution_count": 28,
   "metadata": {},
   "outputs": [
    {
     "name": "stdout",
     "output_type": "stream",
     "text": [
      "True\n",
      "True\n",
      "ABBACCA  not a valid rondo\n",
      "ACAC  not a valid rondo\n",
      "True\n"
     ]
    }
   ],
   "source": [
    "# program to check whether string is rondo or not\n",
    "\n",
    "def valid_rondo(string):\n",
    "    start = 0\n",
    "    end = len(string) - 1\n",
    "    flag = 1\n",
    "    for i in range(len(string)):\n",
    "\n",
    "        if i == start and string[i] != 'A':\n",
    "            flag = 0\n",
    "            break\n",
    "                \n",
    "        if string[i] != 'A' and i != end:\n",
    "            if string[i-1] != 'A' or string[i+1] != 'A':\n",
    "                flag= 0\n",
    "                break\n",
    "        \n",
    "        if i==end and string[i] != 'A':\n",
    "            flag=0\n",
    "            break\n",
    "    \n",
    "    if flag == 1:\n",
    "        print(True)\n",
    "    else:\n",
    "        print(string,' not a valid rondo')\n",
    "            \n",
    "valid_rondo(\"ABACADAEAFAGAHAIAJA\")\n",
    "valid_rondo(\"ABA\") \n",
    "valid_rondo(\"ABBACCA\") \n",
    "valid_rondo(\"ACAC\") \n",
    "valid_rondo(\"A\") "
   ]
  },
  {
   "cell_type": "code",
   "execution_count": null,
   "metadata": {},
   "outputs": [],
   "source": [
    "2. Create a function that returns the whole of the first sentence which\n",
    "contains a specific word. Include the full stop at the end of the sentence.\n",
    "Examples\n",
    "txt = \"I have a cat. I have a mat. Things are going swell.\"\n",
    "sentence_searcher(txt, \"have\") ➞ \"I have a cat.\"\n",
    "sentence_searcher(txt, \"MAT\") ➞ \"I have a mat.\"\n",
    "sentence_searcher(txt, \"things\") ➞ \"Things are going swell.\"\n",
    "sentence_searcher(txt, \"flat\") ➞ \"\""
   ]
  },
  {
   "cell_type": "code",
   "execution_count": 50,
   "metadata": {},
   "outputs": [
    {
     "name": "stdout",
     "output_type": "stream",
     "text": [
      "i have a cat\n",
      " i have a mat\n",
      " things are going swell\n"
     ]
    },
    {
     "data": {
      "text/plain": [
       "' '"
      ]
     },
     "execution_count": 50,
     "metadata": {},
     "output_type": "execute_result"
    }
   ],
   "source": [
    "# program to solve the above problem statement\n",
    "\n",
    "def sentence_searcher(txt,string):\n",
    "    txt = txt.lower().split('.')\n",
    "    \n",
    "    for t in txt:\n",
    "        if string.lower() in t:\n",
    "            return t\n",
    "            break\n",
    "    else:\n",
    "        return ' '\n",
    "\n",
    "print(sentence_searcher(txt, \"have\"))\n",
    "print(sentence_searcher(txt, \"MAT\"))\n",
    "print(sentence_searcher(txt, \"things\"))\n",
    "sentence_searcher(txt, \"flat\") "
   ]
  },
  {
   "cell_type": "code",
   "execution_count": null,
   "metadata": {},
   "outputs": [],
   "source": [
    "3. Given a number, find the \"round\" of each digit of the number. An integer is\n",
    "called \"round\" if all its digits except the leftmost (most significant) are equal to\n",
    "zero.\n",
    "- Round numbers: 4000, 1, 9, 800, 90\n",
    "- Not round numbers: 110, 707, 222, 1001\n",
    "\n",
    "Create a function that takes a number and returns the \"round\" of each digit\n",
    "(except if the digit is zero) as a string. Check out the following examples for\n",
    "more clarification.\n",
    "Examples\n",
    "sum_round(101) ➞ \"1 100\"\n",
    "sum_round(1234) ➞ \"4 30 200 1000\"\n",
    "sum_round(54210) ➞ \"10 200 4000 50000\""
   ]
  },
  {
   "cell_type": "code",
   "execution_count": 73,
   "metadata": {},
   "outputs": [
    {
     "name": "stdout",
     "output_type": "stream",
     "text": [
      "1 100 \n",
      "4 30 200 1000 \n",
      "10 200 4000 50000 \n"
     ]
    }
   ],
   "source": [
    "# program to solve the above problem statement\n",
    "\n",
    "def sum_round(num):\n",
    "    num = str(num)\n",
    "    temp = ''\n",
    "    \n",
    "    i = 1\n",
    "    while i <= len(num):\n",
    "        \n",
    "        if int(num[-i]) != 0:\n",
    "            temp += str(int(num[-i]) * pow(10,(i-1))) + ' '\n",
    "            i += 1\n",
    "        else:\n",
    "            i += 1\n",
    "            continue\n",
    "            \n",
    "    print(temp)\n",
    " \n",
    "sum_round(101) \n",
    "sum_round(1234) \n",
    "sum_round(54210) "
   ]
  },
  {
   "cell_type": "code",
   "execution_count": null,
   "metadata": {},
   "outputs": [],
   "source": [
    "4. Your task, is to create N x N multiplication table, of size n provided in\n",
    "parameter.\n",
    "For example, when n is 5, the multiplication table is:\n",
    "- 1, 2, 3, 4, 5\n",
    "- 2, 4, 6, 8, 10\n",
    "- 3, 6, 9, 12, 15\n",
    "- 4, 8, 12, 16, 20\n",
    "- 5, 10, 15, 20, 25\n",
    "This example will result in:\n",
    "[[1, 2, 3, 4, 5], [2, 4, 6, 8, 10], [3, 6, 9, 12, 15], [4, 8, 12, 16, 20], [5, 10, 15, 20,\n",
    "25]]\n",
    "\n",
    "Examples\n",
    "multiplication_table(1) ➞ [[1]]\n",
    "multiplication_table(3) ➞ [[1, 2, 3], [2, 4, 6], [3, 6, 9]]"
   ]
  },
  {
   "cell_type": "code",
   "execution_count": 81,
   "metadata": {},
   "outputs": [
    {
     "name": "stdout",
     "output_type": "stream",
     "text": [
      "[[1]]\n",
      "[[1, 2, 3], [2, 4, 6], [3, 6, 9]]\n"
     ]
    }
   ],
   "source": [
    "# program to solve the above problem statement\n",
    "\n",
    "def multiplication_table(num):\n",
    "    temp = list()\n",
    "    \n",
    "    # can also use list comprehension\n",
    "    # [[i*j for j in range(1,num+1)] for i in range(1,num+1)]\n",
    "    \n",
    "    for i in range(1,num+1):\n",
    "        t = list()\n",
    "        for j in range(1,num+1):\n",
    "            t.append(i*j)\n",
    "        temp.append(t)\n",
    "    print(temp)\n",
    "  \n",
    "multiplication_table(1)\n",
    "multiplication_table(3)"
   ]
  },
  {
   "cell_type": "code",
   "execution_count": null,
   "metadata": {},
   "outputs": [],
   "source": [
    "5. Create a function that returns True if two lines rhyme and False otherwise.\n",
    "For the purposes of this exercise, two lines rhyme if the last word from each\n",
    "sentence contains the same vowels.\n",
    "Examples\n",
    "does_rhyme(\"Sam I am!\", \"Green eggs and ham.\") ➞ True\n",
    "does_rhyme(\"Sam I am!\", \"Green eggs and HAM.\") ➞ True\n",
    "# Capitalization and punctuation should not matter.\n",
    "does_rhyme(\"You are off to the races\", \"a splendid day.\") ➞ False\n",
    "does_rhyme(\"and frequently do?\", \"you gotta move.\") ➞ False"
   ]
  },
  {
   "cell_type": "code",
   "execution_count": 112,
   "metadata": {},
   "outputs": [
    {
     "name": "stdout",
     "output_type": "stream",
     "text": [
      "True\n",
      "True\n",
      "False\n",
      "False\n"
     ]
    }
   ],
   "source": [
    "# program the solve the above problem statement\n",
    "\n",
    "def does_rhyme(str1,str2):\n",
    "    str1 = str1.lower().split(' ')\n",
    "    str2 = str2.lower().split(' ')\n",
    "    \n",
    "    flag_1 = True\n",
    "    for s in str1[-1]:\n",
    "        if s in ['a','e','i','o','u']:\n",
    "            if s in str2[-1]:\n",
    "                continue\n",
    "            else:\n",
    "                flag_1 = False\n",
    "                \n",
    "    flag_2 = True\n",
    "    for s in str2[-1]:\n",
    "        if s in ['a','e','i','o','u']:\n",
    "            if s in str1[-1]:\n",
    "                continue\n",
    "            else:\n",
    "                flag_2 = False\n",
    "                \n",
    "\n",
    "    if flag_1 and flag_2 :\n",
    "        print(True)\n",
    "    else:\n",
    "        print(False)\n",
    "                          \n",
    "\n",
    "does_rhyme(\"Sam I am!\", \"Green eggs and ham.\")\n",
    "does_rhyme(\"Sam I am!\", \"Green eggs and HAM.\")\n",
    "# Capitalization and punctuation should not matter.\n",
    "does_rhyme(\"You are off to the races\", \"a splendid day.\")\n",
    "does_rhyme(\"and frequently do?\", \"you gotta move.\")"
   ]
  },
  {
   "cell_type": "code",
   "execution_count": null,
   "metadata": {},
   "outputs": [],
   "source": []
  }
 ],
 "metadata": {
  "kernelspec": {
   "display_name": "Python 3",
   "language": "python",
   "name": "python3"
  },
  "language_info": {
   "codemirror_mode": {
    "name": "ipython",
    "version": 3
   },
   "file_extension": ".py",
   "mimetype": "text/x-python",
   "name": "python",
   "nbconvert_exporter": "python",
   "pygments_lexer": "ipython3",
   "version": "3.8.5"
  }
 },
 "nbformat": 4,
 "nbformat_minor": 4
}
