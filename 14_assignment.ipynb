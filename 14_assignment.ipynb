{
 "cells": [
  {
   "cell_type": "code",
   "execution_count": null,
   "metadata": {},
   "outputs": [],
   "source": [
    "1. Given a list of numbers, create a function that removes 25% from every\n",
    "number in the list except the smallest number, and adds the total amount\n",
    "removed to the smallest number.\n",
    "Examples\n",
    "show_the_love([4, 1, 4]) ➞ [3, 3, 3]\n",
    "show_the_love([16, 10, 8]) ➞ [12, 7.5, 14.5]\n",
    "show_the_love([2, 100]) ➞ [27, 75]"
   ]
  },
  {
   "cell_type": "code",
   "execution_count": 2,
   "metadata": {},
   "outputs": [
    {
     "name": "stdout",
     "output_type": "stream",
     "text": [
      "[3.0, 3.0, 3.0]\n",
      "[12.0, 7.5, 14.5]\n",
      "[75.0, 27.0]\n"
     ]
    }
   ],
   "source": [
    "# program to solve above problem\n",
    "\n",
    "def show_the_love(lst):\n",
    "    total = 0\n",
    "    temp = list()\n",
    "    for l in lst:\n",
    "        if l != min(lst):\n",
    "            total = total + l * (1/4)\n",
    "            l = l - l * (1/4)\n",
    "            temp.append(l)\n",
    "        else:\n",
    "            smallest = l\n",
    "            \n",
    "    temp.append((smallest+total))\n",
    "    \n",
    "    print(temp)\n",
    "    \n",
    "show_the_love([4, 1, 4])\n",
    "show_the_love([16, 10, 8])\n",
    "show_the_love([2, 100])"
   ]
  },
  {
   "cell_type": "code",
   "execution_count": null,
   "metadata": {},
   "outputs": [],
   "source": [
    "2. Create a function that takes in two words as input and returns a list of three\n",
    "elements, in the following order:\n",
    "1.Shared letters between two words.\n",
    "2.Letters unique to word 1.\n",
    "3.Letters unique to word 2.\n",
    "Each element should have unique letters, and have each letter be\n",
    "alphabetically sorted.\n",
    "Examples\n",
    "letters(\"sharp\", \"soap\") ➞ [\"aps\", \"hr\", \"o\"]\n",
    "letters(\"board\", \"bored\") ➞ [\"bdor\", \"a\", \"e\"]\n",
    "letters(\"happiness\", \"envelope\") ➞ [\"enp\", \"ahis\", \"lov\"]\n",
    "letters(\"kerfuffle\", \"fluffy\") ➞ [\"flu\", \"ekr\", \"y\"]\n",
    "# Even with multiple matching letters (e.g. 3 f&#39;s), there should\n",
    "# only exist a single \"f\" in your first element.\n",
    "letters(\"match\", \"ham\") ➞ [\"ahm\", \"ct\", \"\"]\n",
    "#\"ham\" does not contain any letters that are not found already \n",
    "# in \"match\".'"
   ]
  },
  {
   "cell_type": "code",
   "execution_count": 8,
   "metadata": {},
   "outputs": [
    {
     "name": "stdout",
     "output_type": "stream",
     "text": [
      "['sap', 'hr', 'o']\n",
      "['bord', 'a', 'e']\n",
      "['ppne', 'haiss', 'vlo']\n",
      "['fuffl', 'kere', 'y']\n",
      "['mah', 'tc', '']\n"
     ]
    }
   ],
   "source": [
    "# program to solve above problem\n",
    "\n",
    "def letters(str1,str2):\n",
    "    result = []\n",
    "    temp = ''\n",
    "    \n",
    "    for s in str1:\n",
    "        if s in str2:\n",
    "            temp += s\n",
    "    \n",
    "    result.append(temp)\n",
    "    temp = ''\n",
    "    \n",
    "    for s in str1:\n",
    "        if s not in str2:\n",
    "            temp += s\n",
    "    result.append(temp)\n",
    "    temp = ''\n",
    "    \n",
    "    for s in str2:\n",
    "        if s not in str1:\n",
    "            temp += s\n",
    "            \n",
    "    result.append(temp)\n",
    "    \n",
    "    print(result)\n",
    "    \n",
    "letters(\"sharp\", \"soap\")\n",
    "letters(\"board\", \"bored\")\n",
    "letters(\"happiness\", \"envelope\")\n",
    "letters(\"kerfuffle\", \"fluffy\")\n",
    "letters(\"match\", \"ham\")"
   ]
  },
  {
   "cell_type": "code",
   "execution_count": null,
   "metadata": {},
   "outputs": [],
   "source": [
    "3. Write a function that pairs the first number in an array with the last, the\n",
    "second number with the second to last, etc.\n",
    "Examples\n",
    "pairs([1, 2, 3, 4, 5, 6, 7]) ➞ [[1, 7], [2, 6], [3, 5], [4, 4]]\n",
    "\n",
    "pairs([1, 2, 3, 4, 5, 6]) ➞ [[1, 6], [2, 5], [3, 4]]\n",
    "pairs([5, 9, 8, 1, 2]) ➞ [[5, 2], [9, 1], [8, 8]]\n",
    "pairs([]) ➞ []"
   ]
  },
  {
   "cell_type": "code",
   "execution_count": 21,
   "metadata": {},
   "outputs": [
    {
     "name": "stdout",
     "output_type": "stream",
     "text": [
      "[[1, 7], [2, 6], [3, 5]]\n",
      "[[1, 6], [2, 5], [3, 4]]\n",
      "[[5, 2], [9, 1]]\n",
      "[]\n"
     ]
    }
   ],
   "source": [
    "# program solve the above problem statement\n",
    "\n",
    "def pairs(lst):\n",
    "    temp = []\n",
    "    for i in range(len(lst)//2):\n",
    "        t = []\n",
    "        t.append(lst[i])\n",
    "        t.append(lst[-i-1])\n",
    "        temp.append(t)\n",
    "    \n",
    "    print(temp)\n",
    "        \n",
    "pairs([1, 2, 3, 4, 5, 6, 7])\n",
    "\n",
    "pairs([1, 2, 3, 4, 5, 6])\n",
    "pairs([5, 9, 8, 1, 2])\n",
    "pairs([])"
   ]
  },
  {
   "cell_type": "code",
   "execution_count": null,
   "metadata": {
    "jupyter": {
     "source_hidden": true
    }
   },
   "outputs": [],
   "source": []
  },
  {
   "cell_type": "code",
   "execution_count": null,
   "metadata": {},
   "outputs": [],
   "source": [
    "4. Write a function that adds two numbers. The catch, however, is that the\n",
    "numbers will be strings.\n",
    "Examples\n",
    "\n",
    "add_str_nums(\"4\", \"5\") ➞ \"9\"\n",
    "add_str_nums(\"abcdefg\", \"3\") ➞ \"-1\"\n",
    "add_str_nums(\"1\", \"\") ➞ \"1\"\n",
    "add_str_nums(\"1874682736267235927359283579235789257\",\"32652983572985729\")"
   ]
  },
  {
   "cell_type": "code",
   "execution_count": 27,
   "metadata": {},
   "outputs": [
    {
     "name": "stdout",
     "output_type": "stream",
     "text": [
      "9.0\n",
      "3.0\n",
      "0\n",
      "1.8746827362672358e+36\n"
     ]
    }
   ],
   "source": [
    "# program to add string and numbers\n",
    "\n",
    "def add_str_nums(str1:str,str2:str):\n",
    "    if str1.isnumeric() and str2.isnumeric():\n",
    "        return float(str1) + float(str2)\n",
    "    elif str1.isalpha() and str2.isnumeric():\n",
    "        return float(str2)\n",
    "    elif str1.isnumeric() and str2.isalpha():\n",
    "        return float(str1)\n",
    "    else :\n",
    "        return 0\n",
    "    \n",
    "print(add_str_nums(\"4\", \"5\"))\n",
    "print(add_str_nums(\"abcdefg\", \"3\") )\n",
    "print(add_str_nums(\"1\", \"\"))\n",
    "print(add_str_nums(\"1874682736267235927359283579235789257\",\"32652983572985729\"))"
   ]
  },
  {
   "cell_type": "code",
   "execution_count": null,
   "metadata": {},
   "outputs": [],
   "source": [
    "5. lPaeesh le pemu mnxit ehess rtnisg! Oh, sorry, that was supposed to say:\n",
    "Please help me unmix these strings!\n",
    "Somehow my strings have all become mixed up; every pair of characters has\n",
    "been swapped. Help me undo this so I can understand my strings again.\n",
    "Examples\n",
    "unmix(\"123456\") ➞ \"214365\"\n",
    "unmix(\"hTsii s aimex dpus rtni.g\") ➞ \"This is a mixed up string.\"\n",
    "unmix(\"badce\") ➞ \"abcde\""
   ]
  },
  {
   "cell_type": "code",
   "execution_count": 48,
   "metadata": {},
   "outputs": [
    {
     "name": "stdout",
     "output_type": "stream",
     "text": [
      "214365\n",
      "This is a mixed up string.\n",
      "abcde\n"
     ]
    }
   ],
   "source": [
    "# program to solve above problem\n",
    "\n",
    "def unmix(string):\n",
    "    lst = list(string)\n",
    "    temp = list()\n",
    "    count = 0\n",
    "    while count < len(lst):\n",
    "        if count != len(lst)-1:\n",
    "            temp.append(lst[count+1])\n",
    "        temp.append(lst[count])\n",
    "        count += 2\n",
    "        \n",
    "    temp = ''.join(temp)\n",
    "    print(temp)\n",
    "    \n",
    "unmix(\"123456\")\n",
    "unmix(\"hTsii  s aimex dpus rtni.g\") \n",
    "unmix(\"badce\")"
   ]
  },
  {
   "cell_type": "code",
   "execution_count": null,
   "metadata": {},
   "outputs": [],
   "source": []
  },
  {
   "cell_type": "code",
   "execution_count": null,
   "metadata": {},
   "outputs": [],
   "source": []
  }
 ],
 "metadata": {
  "kernelspec": {
   "display_name": "Python 3",
   "language": "python",
   "name": "python3"
  },
  "language_info": {
   "codemirror_mode": {
    "name": "ipython",
    "version": 3
   },
   "file_extension": ".py",
   "mimetype": "text/x-python",
   "name": "python",
   "nbconvert_exporter": "python",
   "pygments_lexer": "ipython3",
   "version": "3.8.5"
  }
 },
 "nbformat": 4,
 "nbformat_minor": 4
}
