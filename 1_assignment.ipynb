{
 "cells": [
  {
   "cell_type": "code",
   "execution_count": null,
   "metadata": {},
   "outputs": [],
   "source": [
    "1.)  Write a function that takes a list of lists and returns the value of all of the\n",
    "symbols in it, where each symbol adds or takes something from the total\n",
    "score. Symbol values:\n",
    "# = 5\n",
    "O = 3\n",
    "X = 1\n",
    "! = -1\n",
    "!! = -3\n",
    "!!! = -5\n",
    "A list of lists containing 2 #s, a O, and a !!! would equal (0 + 5 + 5 + 3 - 5) 8.\n",
    "If the final score is negative, return 0 (e.g. 3 #s, 3 !!s, 2 !!!s and a X would be\n",
    "(0 + 5 + 5 + 5 - 3 - 3 - 3 - 5 - 5 + 1) -3, so return 0.\n",
    "Examples\n",
    "check_score([[\"#\", \"!\"],[\"!!\", \"X\"]]) ➞ 2\n",
    "check_score([[\"!!!\", \"O\", \"!\"],[\"X\", \"#\", \"!!!\"],[\"!!\", \"X\", \"O\"]]) ➞ -1"
   ]
  },
  {
   "cell_type": "code",
   "execution_count": 9,
   "metadata": {},
   "outputs": [
    {
     "name": "stdout",
     "output_type": "stream",
     "text": [
      "2\n"
     ]
    },
    {
     "data": {
      "text/plain": [
       "-1"
      ]
     },
     "execution_count": 9,
     "metadata": {},
     "output_type": "execute_result"
    }
   ],
   "source": [
    "# program to solve the above problem\n",
    "\n",
    "def check_score(lst):\n",
    "    score_map = { '#':5,'O':3,'X':1,'!':-1,'!!':-3,'!!!':-5}\n",
    "    \n",
    "    sum = 0\n",
    "    for i in lst:\n",
    "        for j in i:\n",
    "            if j in score_map.keys():\n",
    "                sum += score_map[j]\n",
    "    return sum\n",
    "print(check_score([[\"#\", \"!\"],[\"!!\", \"X\"]]))\n",
    "check_score([[\"!!!\", \"O\", \"!\"],[\"X\", \"#\", \"!!!\"],[\"!!\", \"X\", \"O\"]])"
   ]
  },
  {
   "cell_type": "code",
   "execution_count": null,
   "metadata": {},
   "outputs": [],
   "source": [
    "2.) Create a function that takes a variable number of arguments, each\n",
    "argument representing the number of items in a group, and returns the\n",
    "number of permutations (combinations) of items that you could get by taking\n",
    "one item from each group.\n",
    "Examples\n",
    "combinations(2, 3) ➞ 6\n",
    "combinations(3, 7, 4) ➞ 84\n",
    "combinations(2, 3, 4, 5) ➞ 120"
   ]
  },
  {
   "cell_type": "code",
   "execution_count": 14,
   "metadata": {},
   "outputs": [
    {
     "name": "stdout",
     "output_type": "stream",
     "text": [
      "6\n",
      "84\n",
      "120\n"
     ]
    }
   ],
   "source": [
    "# programt to solve tha above problem\n",
    "\n",
    "def combinations(*nums):\n",
    "    mul = 1\n",
    "    for n in nums:\n",
    "        mul *= n\n",
    "        \n",
    "    return mul\n",
    "print(combinations(2, 3))\n",
    "print(combinations(3, 7, 4))\n",
    "print(combinations(2, 3, 4, 5))"
   ]
  },
  {
   "cell_type": "code",
   "execution_count": null,
   "metadata": {},
   "outputs": [],
   "source": [
    "3.) 3. Create a function that takes a string as an argument and returns the Morse\n",
    "code equivalent.\n",
    "Examples\n",
    "encode_morse(\"EDABBIT CHALLENGE\") ➞ \". -.. .- -... -... .. - -.-. .... .- .-.. .-... -. --. .\"encode_morse(\"HELP ME !\") \n",
    "➞ \".... . .-.. .--. -- . -.-.--\"\n",
    "This dictionary can be used for coding:\n",
    "char_to_dots = {\"A\": \".-\", \"B\": \"-...\", \"C\": \"-.-.\", \n",
    "                \"D\": \"-..\", \"E\": \".\", \"F\": \"..-.\",\n",
    "                \"G\": \"--.\", \"H\": \"....\", \"I\": \"..\", \n",
    "                \"J\": \".---\", \"K\": \"-.-\", \"L\": \".-..\",\n",
    "                \"M\": \"--\", \"N\": \"-.\", \"O\": \"---\", \n",
    "                \"P\": \".--.\", \"Q\": \"--.-\", \"R\": \".-.\",\n",
    "                \"S\": \"...\", \"T\": \"-\", \"U\": \"..-\", \n",
    "                \"V\": \"...-\", \"W\": \".--\", \"X\": \"-..-\",\n",
    "                \"Y\": \"-.--\", \"Z\": \"--..\", \" \": \" \", \n",
    "                \"0\": \"-----\",\"1\": \".----\", \"2\": \"..---\",\n",
    "                \"3\": \"...--\", \"4\": \"....-\", \"5\": \".....\",\n",
    "                \"6\": \"-....\", \"7\": \"--...\", \"8\": \"---..\", \n",
    "                \"9\": \"----.\",\"&\": \".-...\",\"'\": \".----.\", \n",
    "                \"@\": \".--.-.\", \")\": \"-.--.-\", \"(\": \"-.--.\",\n",
    "                \":\": \"---...\", \",\": \"--..--\", \"=\": \"-...-\", \n",
    "                \"!\": \"-.-.--\", \".\": \".-.-.-\",\"-\": \"-....-\", \n",
    "                \"+\": \".-.-.\", \"'\": \".-..-.\", \"?\": \"..--..\",\n",
    "                \"/\": \"-..-.\"}"
   ]
  },
  {
   "cell_type": "code",
   "execution_count": 27,
   "metadata": {},
   "outputs": [
    {
     "name": "stdout",
     "output_type": "stream",
     "text": [
      ".-...--...-.....- -.-......-.-...-...-.--..\n",
      "......-...--. --. -.-.--\n"
     ]
    }
   ],
   "source": [
    "# program to encode the characters\n",
    "char_to_dots = {\"A\": \".-\", \"B\": \"-...\", \"C\": \"-.-.\", \n",
    "                \"D\": \"-..\", \"E\": \".\", \"F\": \"..-.\",\n",
    "                \"G\": \"--.\", \"H\": \"....\", \"I\": \"..\", \n",
    "                \"J\": \".---\", \"K\": \"-.-\", \"L\": \".-..\",\n",
    "                \"M\": \"--\", \"N\": \"-.\", \"O\": \"---\", \n",
    "                \"P\": \".--.\", \"Q\": \"--.-\", \"R\": \".-.\",\n",
    "                \"S\": \"...\", \"T\": \"-\", \"U\": \"..-\", \n",
    "                \"V\": \"...-\", \"W\": \".--\", \"X\": \"-..-\",\n",
    "                \"Y\": \"-.--\", \"Z\": \"--..\", \" \": \" \", \n",
    "                \"0\": \"-----\",\"1\": \".----\", \"2\": \"..---\",\n",
    "                \"3\": \"...--\", \"4\": \"....-\", \"5\": \".....\",\n",
    "                \"6\": \"-....\", \"7\": \"--...\", \"8\": \"---..\", \n",
    "                \"9\": \"----.\",\"&\": \".-...\",\"'\": \".----.\", \n",
    "                \"@\": \".--.-.\", \")\": \"-.--.-\", \"(\": \"-.--.\",\n",
    "                \":\": \"---...\", \",\": \"--..--\", \"=\": \"-...-\", \n",
    "                \"!\": \"-.-.--\", \".\": \".-.-.-\",\"-\": \"-....-\", \n",
    "                \"+\": \".-.-.\", \"'\": \".-..-.\", \"?\": \"..--..\",\n",
    "                \"/\": \"-..-.\"}\n",
    "\n",
    "def encode_morse(string):\n",
    "    encode = str()\n",
    "    for s in string:\n",
    "        encode += char_to_dots[s]\n",
    "        \n",
    "    return encode\n",
    "\n",
    "print(encode_morse(\"EDABBIT CHALLENGE\"))\n",
    "print(encode_morse(\"HELP ME !\"))"
   ]
  },
  {
   "cell_type": "code",
   "execution_count": null,
   "metadata": {},
   "outputs": [],
   "source": [
    "4.) Write a function that takes a number and returns True if it&#39;s a prime; False\n",
    "otherwise. The number can be 2^64-1 (2 to the power of 63, not XOR). With\n",
    "the standard technique it would be O(2^64-1), which is much too large for the\n",
    "10 second time limit.\n",
    "Examples\n",
    "prime(7) ➞ True\n",
    "prime(56963) ➞ True\n",
    "prime(5151512515524) ➞ False"
   ]
  },
  {
   "cell_type": "code",
   "execution_count": 5,
   "metadata": {},
   "outputs": [
    {
     "name": "stdout",
     "output_type": "stream",
     "text": [
      "False\n",
      "True\n",
      "False\n"
     ]
    }
   ],
   "source": [
    "# program to check number is prime or not\n",
    "\n",
    "def prime(n):\n",
    "\tflag = 0;\n",
    "\n",
    "\t# checking divisibility by 6\n",
    "\tif ((n + 1) % 6 != 0 and (n - 1) % 6 != 0):\n",
    "\t\tprint(\"False\");\n",
    "\telse:\n",
    "\n",
    "\t\t# breakout if number is perfect square\n",
    "\t\ts = pow(n, 1/2);\n",
    "\t\tif ((s * s) == n):\n",
    "\t\t\tprint(\"Semi-Prime\");\n",
    "\t\telse:\n",
    "\t\t\tf = int(s);\n",
    "\t\t\tl = int(f * f);\n",
    "\n",
    "\t\t\t# Iterating over to get the\n",
    "\t\t\t# closest average value\n",
    "\t\t\tfor i in range(f + 1, l):\n",
    "\n",
    "\t\t\t\t# 1st Factor\n",
    "\t\t\t\tp = i - (pow(((i * i) - (n)), 1/2));\n",
    "\n",
    "\t\t\t\t# 2nd Factor\n",
    "\t\t\t\tq = n // p;\n",
    "\n",
    "\t\t\t\t# To avoid Convergence\n",
    "\t\t\t\tif (p < 2 or q < 2):\n",
    "\t\t\t\t\tbreak;\n",
    "\t\t\t\t\n",
    "\t\t\t\t# checking semi-prime condition\n",
    "\t\t\t\tif ((p * q) == n):\n",
    "\t\t\t\t\tflag = 1;\n",
    "\t\t\t\t\tbreak;\n",
    "\t\t\t\t\n",
    "\t\t\t\t# If convergence found\n",
    "\t\t\t\t# then number is semi-prime\n",
    "\t\t\t\telse:\n",
    "\n",
    "\t\t\t\t\t# convergence not found\n",
    "\t\t\t\t\t# then number is prime\n",
    "\t\t\t\t\tflag = 2;\n",
    "\t\t\t\t\n",
    "\t\t\tif (flag == 1):\n",
    "\t\t\t\tprint(\"Semi-Prime\");\n",
    "\t\t\telif(flag == 2):\n",
    "\n",
    "\t\t\t\tprint(\"True\");\n",
    "\n",
    "prime(70)\n",
    "prime(56963)\n",
    "prime(5151512515524)"
   ]
  },
  {
   "cell_type": "code",
   "execution_count": null,
   "metadata": {},
   "outputs": [],
   "source": [
    "5.) Create a function that converts a word to a bitstring and then to a boolean\n",
    "list based on the following criteria:\n",
    "1. Locate the position of the letter in the English alphabet (from 1 to 26).\n",
    "2. Odd positions will be represented as 1 and 0 otherwise.\n",
    "3. Convert the represented positions to boolean values, 1 for True and 0\n",
    "for False.\n",
    "4. Store the conversions into an array.\n",
    "Examples\n",
    "to_boolean_list(\"deep\") ➞ [False, True, True, False]\n",
    "# deep converts to 0110\n",
    "# d is the 4th alphabet - 0\n",
    "# e is the 5th alphabet - 1\n",
    "# e is the 5th alphabet - 1\n",
    "# p is the 16th alphabet - 0\n",
    "to_boolean_list(\"loves\") ➞ [False, True, False, True, True]\n",
    "to_boolean_list(\"tesh\") ➞ [False, True, True, False]"
   ]
  },
  {
   "cell_type": "code",
   "execution_count": 9,
   "metadata": {},
   "outputs": [
    {
     "name": "stdout",
     "output_type": "stream",
     "text": [
      "01011\n",
      "0110\n"
     ]
    }
   ],
   "source": [
    "# program to solve the above problem statement\n",
    "\n",
    "alpha = {\"a\": 1,\"b\":2,\"c\":3,\"d\":4,\"e\":5,\"f\":6,\"g\":7,\"h\":8,\"i\":9,\"j\":10,\n",
    "        \"k\":11,\"l\":12,\"m\":13,\"n\":14,\"o\":15,\"p\":16,\"q\":17,\"r\":18,\"s\":19,\n",
    "        \"t\":20,\"u\":21,\"v\":22,\"u\":23,\"x\":24,\"y\":25,\"z\":26}\n",
    "\n",
    "def to_boolean_list(string):\n",
    "    boolean = str()\n",
    "    for s in string:\n",
    "        loc = alpha[s]\n",
    "        if loc % 2==0:\n",
    "            boolean += '0'\n",
    "        else:\n",
    "            boolean += '1'\n",
    "            \n",
    "    print(boolean)\n",
    "    \n",
    "to_boolean_list(\"loves\")\n",
    "to_boolean_list(\"tesh\")"
   ]
  },
  {
   "cell_type": "code",
   "execution_count": null,
   "metadata": {},
   "outputs": [],
   "source": []
  }
 ],
 "metadata": {
  "kernelspec": {
   "display_name": "Python 3",
   "language": "python",
   "name": "python3"
  },
  "language_info": {
   "codemirror_mode": {
    "name": "ipython",
    "version": 3
   },
   "file_extension": ".py",
   "mimetype": "text/x-python",
   "name": "python",
   "nbconvert_exporter": "python",
   "pygments_lexer": "ipython3",
   "version": "3.8.5"
  }
 },
 "nbformat": 4,
 "nbformat_minor": 4
}
