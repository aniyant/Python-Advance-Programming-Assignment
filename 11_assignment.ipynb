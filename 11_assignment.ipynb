{
 "cells": [
  {
   "cell_type": "code",
   "execution_count": null,
   "metadata": {},
   "outputs": [],
   "source": [
    "1. Create a function that takes a list and returns a new list containing only\n",
    "prime numbers.\n",
    "Examples\n",
    "filter_primes([7, 9, 3, 9, 10, 11, 27]) ➞ [7, 3, 11]\n",
    "filter_primes([10007, 1009, 1007, 27, 147, 77, 1001, 70]) ➞ [10007, 1009]\n",
    "filter_primes([1009, 10, 10, 10, 3, 33, 9, 4, 1, 61, 63, 69, 1087, 1091, 1093,\n",
    "1097]) ➞ [1009, 3, 61, 1087, 1091, 1093, 1097]\n"
   ]
  },
  {
   "cell_type": "code",
   "execution_count": 4,
   "metadata": {},
   "outputs": [
    {
     "name": "stdout",
     "output_type": "stream",
     "text": [
      "[7, 3, 11]\n",
      "[10007, 1009]\n",
      "[1009, 3, 61, 1087, 1091, 1093, 1097]\n"
     ]
    }
   ],
   "source": [
    "# program to filter prime numbers from list\n",
    "\n",
    "def filter_primes(lst):\n",
    "    temp = []\n",
    "    \n",
    "    for l in lst:\n",
    "        if l> 2:\n",
    "            for i in range(2,(l//2+1)):\n",
    "                if l%i == 0:\n",
    "                    break\n",
    "                \n",
    "            else:\n",
    "                temp.append(l)\n",
    "            \n",
    "    print(temp)\n",
    "\n",
    "filter_primes([7, 9, 3, 9, 10, 11, 27,2])\n",
    "filter_primes([10007, 1009, 1007, 27, 147, 77, 1001, 70])\n",
    "filter_primes([1009, 10, 10, 10, 3, 33, 9, 4, 1, 61, 63, 69, 1087, 1091, 1093,1097])\n",
    "            "
   ]
  },
  {
   "cell_type": "code",
   "execution_count": null,
   "metadata": {},
   "outputs": [],
   "source": [
    "2.) Once a water balloon pops, is soaks the area around it. The ground gets\n",
    "drier the further away you travel from the balloon.\n",
    "The effect of a water balloon popping can be modeled using a list. Create a\n",
    "function that takes a list which takes the pre-pop state and returns the state\n",
    "after the balloon is popped. The pre-pop state will contain at most a single\n",
    "balloon, whose size is represented by the only non-zero element.\n",
    "Examples\n",
    "pop([0, 0, 0, 0, 4, 0, 0, 0, 0]) ➞ [0, 1, 2, 3, 4, 3, 2, 1, 0]\n",
    "pop([0, 0, 0, 3, 0, 0, 0]) ➞ [0, 1, 2, 3, 2, 1, 0]\n",
    "pop([0, 0, 2, 0, 0]) ➞ [0, 1, 2, 1, 0]\n",
    "pop([0]) ➞ [0]"
   ]
  },
  {
   "cell_type": "code",
   "execution_count": 23,
   "metadata": {},
   "outputs": [
    {
     "name": "stdout",
     "output_type": "stream",
     "text": [
      "[0, 1, 2, 3, 4, 3, 2, 1, 0]\n",
      "[0, 1, 2, 3, 0, 3, 2, 1, 0]\n",
      "[0, 1, 2, 1, 0]\n",
      "[0]\n"
     ]
    }
   ],
   "source": [
    "# program to solve above statement\n",
    "\n",
    "def pop(lst):\n",
    "    temp = []\n",
    "    count = 0\n",
    "    for i in range(round(len(lst)/2)):\n",
    "        temp.append(count)\n",
    "        count += 1\n",
    "        \n",
    "    temp2 = temp.copy()\n",
    "    \n",
    "    temp.append(lst[round(len(lst)/2)])\n",
    "    \n",
    "    temp = temp+temp2[::-1]\n",
    "        \n",
    "    print(temp)\n",
    "    \n",
    "pop([0, 0, 0, 0, 4, 0, 0, 0, 0])\n",
    "pop([0, 0, 0, 3, 0, 0, 0])\n",
    "pop([0, 0, 2, 0, 0])\n",
    "pop([0])"
   ]
  },
  {
   "cell_type": "code",
   "execution_count": null,
   "metadata": {},
   "outputs": [],
   "source": [
    "3.) \"Loves me, loves me not\" is a traditional game in which a person \n",
    "plucks off all the petals of a flower one by one, saying the phrase \"Loves me\" and\"Loves me not\" \n",
    "when determining whether the one that they love, loves themback.Given a number of petals, \n",
    "return a string which repeats the phrases \"Lovesme\" and \"Loves me not\" for every alternating petal, \n",
    "and return the last phrasein all caps. Remember to put a comma and space between phrases.\n",
    "Examples\n",
    "loves_me(3) ➞ \"Loves me, Loves me not, LOVES ME\"\n",
    "loves_me(6) ➞ \"Loves me, Loves me not, Loves me, Loves me not, Lovesme, LOVES ME NOT\""
   ]
  },
  {
   "cell_type": "code",
   "execution_count": 29,
   "metadata": {},
   "outputs": [
    {
     "name": "stdout",
     "output_type": "stream",
     "text": [
      "Loves me not, loves me, Loves me not, loves me, \n",
      "Loves me not, loves me, Loves me not, loves me, Loves me not, loves me, Loves me not, \n"
     ]
    }
   ],
   "source": [
    "# program to solve the above statement\n",
    "\n",
    "def loves_me(n):\n",
    "    temp = ''\n",
    "    for i in range(n+1):\n",
    "        if i %2 == 0:\n",
    "            temp += 'Loves me not, '\n",
    "        else:\n",
    "            temp += 'loves me, '\n",
    "            \n",
    "    print(temp)\n",
    "loves_me(3)\n",
    "loves_me(6) \n"
   ]
  },
  {
   "cell_type": "code",
   "execution_count": null,
   "metadata": {},
   "outputs": [],
   "source": [
    "4.) 4. Write a function that sorts each string in a list by the letter in alphabetic\n",
    "ascending order (a-z).\n",
    "Examples\n",
    "\n",
    "sort_by_letter([\"932c\", \"832u32\", \"2344b\"])➞ [\"2344b\", \"932c\", \"832u32\"]\n",
    "sort_by_letter([\"99a\", \"78b\", \"c2345\", \"11d\"])➞ [\"99a\", \"78b\", \"c2345\", \"11d\"]\n",
    "sort_by_letter([\"572z\", \"5y5\", \"304q2\"])➞ [\"304q2\", \"5y5\", \"572z\"]\n",
    "sort_by_letter([])"
   ]
  },
  {
   "cell_type": "code",
   "execution_count": 35,
   "metadata": {},
   "outputs": [
    {
     "name": "stdout",
     "output_type": "stream",
     "text": [
      "['2344b', '932c', '832u32']\n",
      "['99a', '78b', 'c2345', '11d']\n",
      "['304q2', '5y5', '572z']\n",
      "[]\n"
     ]
    }
   ],
   "source": [
    "# program to solve the above the statement\n",
    "\n",
    "def sort_by_letter(lst):\n",
    "    temp = dict()\n",
    "    \n",
    "    for l in lst:\n",
    "        for i in l:\n",
    "            if i.isalpha():\n",
    "                temp[i] = l\n",
    "                break\n",
    "                \n",
    "    keys = list(temp.keys())\n",
    "    keys.sort()\n",
    "    \n",
    "    sort = []\n",
    "    \n",
    "    for k in keys:\n",
    "        if k in temp.keys():\n",
    "            sort.append(temp[k])\n",
    "            \n",
    "    print(sort)\n",
    "\n",
    "    \n",
    "sort_by_letter([\"932c\", \"832u32\", \"2344b\"])\n",
    "sort_by_letter([\"99a\", \"78b\", \"c2345\", \"11d\"])\n",
    "sort_by_letter([\"572z\", \"5y5\", \"304q2\"])\n",
    "sort_by_letter([])"
   ]
  },
  {
   "cell_type": "code",
   "execution_count": null,
   "metadata": {},
   "outputs": [],
   "source": [
    "5.) There are three cups on a table, at positions A, B, and C. At the start, there\n",
    "is a ball hidden under the cup at position B.\n",
    "\n",
    "However, I perform several swaps on the cups, which is notated as two\n",
    "letters. For example, if I swap the cups at positions A and B, I could notate\n",
    "this as AB or BA.\n",
    "Create a function that returns the letter position that the ball is at, once I finish\n",
    "swapping the cups. The swaps will be given to you as a list.\n",
    "\n",
    "Example\n",
    "cup_swapping([\"AB\", \"CA\", \"AB\"]) ➞ \"C\""
   ]
  },
  {
   "cell_type": "code",
   "execution_count": 39,
   "metadata": {},
   "outputs": [
    {
     "name": "stdout",
     "output_type": "stream",
     "text": [
      "C\n"
     ]
    }
   ],
   "source": [
    "# program to solve the above statement\n",
    "\n",
    "def cup_swapping(lst):\n",
    "    ball_position = str()\n",
    "    \n",
    "    ball_position = lst[0][1]\n",
    "    for l in range(len(lst)):\n",
    "        if ball_position in lst[l]:\n",
    "            ball_position = lst[l][0]\n",
    "        else:\n",
    "            break\n",
    "    print(ball_position)                  \n",
    "cup_swapping([\"AB\", \"CA\", \"AB\"])            \n",
    "    "
   ]
  },
  {
   "cell_type": "code",
   "execution_count": null,
   "metadata": {},
   "outputs": [],
   "source": []
  }
 ],
 "metadata": {
  "kernelspec": {
   "display_name": "Python 3",
   "language": "python",
   "name": "python3"
  },
  "language_info": {
   "codemirror_mode": {
    "name": "ipython",
    "version": 3
   },
   "file_extension": ".py",
   "mimetype": "text/x-python",
   "name": "python",
   "nbconvert_exporter": "python",
   "pygments_lexer": "ipython3",
   "version": "3.8.5"
  }
 },
 "nbformat": 4,
 "nbformat_minor": 4
}
