{
 "cells": [
  {
   "cell_type": "code",
   "execution_count": null,
   "metadata": {},
   "outputs": [],
   "source": [
    "1.) Create a function that takes the width, height and character and returns a\n",
    "picture frame as a 2D list.\n",
    "Examples\n",
    "get_frame(4, 5, \"#\") ➞ [\n",
    "    [\"####\"],\n",
    "    [\"# #\"],\n",
    "    [\"# #\"],\n",
    "    [\"# #\"],\n",
    "    [\"####\"]\n",
    "]\n",
    "# Frame is 4 characters wide and 5 characters tall.\n",
    "get_frame(10, 3, \"*\") ➞ [\n",
    "    [\"**********\"],\n",
    "    [\"* *\"],\n",
    "    [\"**********\"]\n",
    "]\n",
    "# Frame is 10 characters and wide and 3 characters tall.get_frame(2, 5, \"0\") ➞ \"invalid\""
   ]
  },
  {
   "cell_type": "code",
   "execution_count": 18,
   "metadata": {},
   "outputs": [
    {
     "name": "stdout",
     "output_type": "stream",
     "text": [
      "[['####'], ['####'], ['####'], ['####'], ['####']]\n",
      "[['**********'], ['**********'], ['**********']]\n"
     ]
    }
   ],
   "source": [
    "# program to create picture frame as a 2d list\n",
    "\n",
    "def get_frame(width,height,symbol):\n",
    "    frame = [[symbol for i in range(width)] for i in range(height)]\n",
    "    \n",
    "    for f in frame:\n",
    "        if type(f) == list:\n",
    "            temp = ''\n",
    "            for i in f:\n",
    "                temp += i\n",
    "                \n",
    "        frame[frame.index(f)] = [temp]\n",
    "        \n",
    "        \n",
    "    print(frame)\n",
    "get_frame(4, 5, \"#\")\n",
    "get_frame(10, 3, \"*\")"
   ]
  },
  {
   "cell_type": "code",
   "execution_count": null,
   "metadata": {},
   "outputs": [],
   "source": [
    "2. Write three functions:\n",
    "1. boolean_and\n",
    "2. boolean_or\n",
    "3. boolean_xor\n",
    "These functions should evaluate a list of True and False values, starting from\n",
    "the leftmost element and evaluating pairwise.\n",
    "Examples\n",
    "boolean_and([True, True, False, True]) ➞ False\n",
    "# [True, True, False, True] =&gt; [True, False, True] =&gt; [False, True] =&gt; False\n",
    "boolean_or([True, True, False, False]) ➞ True\n",
    "# [True, True, False, True] =&gt; [True, False, False] =&gt; [True, False] =&gt; True\n",
    "boolean_xor([True, True, False, False]) ➞ False\n",
    "# [True, True, False, False] =&gt; [False, False, False] =&gt; [False, False] =&gt;\n",
    "False"
   ]
  },
  {
   "cell_type": "code",
   "execution_count": 53,
   "metadata": {},
   "outputs": [
    {
     "name": "stdout",
     "output_type": "stream",
     "text": [
      "False\n",
      "True\n",
      "False\n"
     ]
    }
   ],
   "source": [
    "# program to create three function mentioned above\n",
    "\n",
    "def boolean_and(lst):\n",
    "    def boolean(lst):\n",
    "        b = []\n",
    "        if len(lst) > 1:\n",
    "            for i in range(len(lst)):\n",
    "                if i != len(lst) -1:\n",
    "                    b.append(lst[i] and lst[i+1])\n",
    "                else:\n",
    "                    boolean(b)\n",
    "            \n",
    "        else:\n",
    "            print(lst[0])\n",
    "        \n",
    "    boolean(lst)\n",
    "\n",
    "def boolean_or(lst):\n",
    "    def boolean(lst):\n",
    "        b = []\n",
    "        if len(lst) > 1:\n",
    "            for i in range(len(lst)):\n",
    "                if i != len(lst) -1:\n",
    "                    b.append(lst[i] or lst[i+1])\n",
    "                else:\n",
    "                    boolean(b)\n",
    "            \n",
    "        else:\n",
    "            print(lst[0])\n",
    "        \n",
    "    boolean(lst)\n",
    "    \n",
    "def boolean_xor(lst):\n",
    "    def boolean(lst):\n",
    "        b = []\n",
    "        if len(lst) > 1:\n",
    "            for i in range(len(lst)):\n",
    "                if i != len(lst) -1:\n",
    "                    b.append(lst[i] ^ lst[i+1])\n",
    "                else:\n",
    "                    boolean(b)\n",
    "            \n",
    "        else:\n",
    "            print(lst[0])\n",
    "        \n",
    "    boolean(lst)\n",
    "      \n",
    "boolean_and([True, True, False, True])\n",
    "boolean_or([True, True, False, False])\n",
    "boolean_xor([True, True, False, False])"
   ]
  },
  {
   "cell_type": "code",
   "execution_count": null,
   "metadata": {},
   "outputs": [],
   "source": [
    "3. Create a function that creates a box based on dimension n.\n",
    "Examples\n",
    "make_box(5) ➞ [\"#####\",\"# #\",\"# #\",\"# #\",\"#####\"]\n",
    "make_box(3) ➞ [\"###\",\"# #\",\"###\"]\n",
    "make_box(2) ➞ [\"##\",\"##\"]\n",
    "make_box(1) ➞ [\"#\"]"
   ]
  },
  {
   "cell_type": "code",
   "execution_count": 57,
   "metadata": {},
   "outputs": [
    {
     "name": "stdout",
     "output_type": "stream",
     "text": [
      "[['#####'], ['#####'], ['#####'], ['#####'], ['#####']]\n",
      "[['###'], ['###'], ['###']]\n",
      "[['##'], ['##']]\n",
      "[['#']]\n"
     ]
    }
   ],
   "source": [
    "# function to solve above problem statement\n",
    "\n",
    "def make_box(n):\n",
    "    frame = [['#' for i in range(n)] for i in range(n)]\n",
    "    \n",
    "    for f in frame:\n",
    "        if type(f) == list:\n",
    "            temp = ''\n",
    "            for i in f:\n",
    "                temp += i\n",
    "                \n",
    "        frame[frame.index(f)] = [temp]\n",
    "        \n",
    "    print(frame)\n",
    "\n",
    "make_box(5)\n",
    "make_box(3)\n",
    "make_box(2)\n",
    "make_box(1)"
   ]
  },
  {
   "cell_type": "code",
   "execution_count": null,
   "metadata": {},
   "outputs": [],
   "source": [
    "4.) Given a common phrase, return False if any individual word in the phrase\n",
    "contains duplicate letters. Return True otherwise.\n",
    "Examples\n",
    "no_duplicate_letters(\"Fortune favours the bold.\"\") ➞ True\n",
    "no_duplicate_letters(\"You can lead a horse to water, but you can't make him\n",
    "drink.\") ➞ True\n",
    "no_duplicate_letters(\"Look before you leap.\"\") ➞ False\n",
    "# Duplicate letters in &quot;Look&quot; and &quot;before&quot;.\n",
    "no_duplicate_letters(\"An apple a day keeps the doctor away.\") ➞ False\n",
    "# Duplicate letters in &quot;apple&quot;, &quot;keeps&quot;, &quot;doctor&quot;, and &quot;away&quot;."
   ]
  },
  {
   "cell_type": "code",
   "execution_count": 59,
   "metadata": {},
   "outputs": [
    {
     "name": "stdout",
     "output_type": "stream",
     "text": [
      "True\n",
      "True\n",
      "False\n",
      "False\n"
     ]
    }
   ],
   "source": [
    "# program to check the duplicate letters in the phrase\n",
    "\n",
    "def no_duplicate_letters(string):\n",
    "    string = string.split(' ')\n",
    "    \n",
    "    for s in string:\n",
    "        temp = list(s)\n",
    "        \n",
    "        if len(temp) != len(set(temp)):\n",
    "            return False\n",
    "            \n",
    "    return True\n",
    "\n",
    "print(no_duplicate_letters(\"Fortune favours the bold.\"))\n",
    "print(no_duplicate_letters(\"You can lead a horse to water, but you can't make him drink.\"))\n",
    "print(no_duplicate_letters(\"Look before you leap.\"))\n",
    "print(no_duplicate_letters(\"An apple a day keeps the doctor away.\"))"
   ]
  },
  {
   "cell_type": "code",
   "execution_count": null,
   "metadata": {},
   "outputs": [],
   "source": [
    "5.) Write a regular expression that will match the states that voted yes to\n",
    "President Trump's impeachment. You must use RegEx positive lookahead.\n",
    "Example\n",
    "txt = \"Texas = no, California = yes, Florida = yes, Michigan = no\"\n",
    "\n",
    "pattern = \"?=yes\"\n",
    "\n",
    "re.findall(pattern, txt) ➞ [\"California\", \"Florida\"]"
   ]
  },
  {
   "cell_type": "code",
   "execution_count": 77,
   "metadata": {},
   "outputs": [
    {
     "name": "stdout",
     "output_type": "stream",
     "text": [
      "['California', 'Florida']\n"
     ]
    }
   ],
   "source": [
    "# function to solve above problem\n",
    "import re\n",
    "txt = \"Texas = no, California = yes, Florida = yes, Michigan = no\"\n",
    "pattern = \"\\w+(?= = yes)\"\n",
    "reg = re.findall(pattern, txt)\n",
    "print(reg)"
   ]
  },
  {
   "cell_type": "code",
   "execution_count": null,
   "metadata": {},
   "outputs": [],
   "source": []
  }
 ],
 "metadata": {
  "kernelspec": {
   "display_name": "Python 3",
   "language": "python",
   "name": "python3"
  },
  "language_info": {
   "codemirror_mode": {
    "name": "ipython",
    "version": 3
   },
   "file_extension": ".py",
   "mimetype": "text/x-python",
   "name": "python",
   "nbconvert_exporter": "python",
   "pygments_lexer": "ipython3",
   "version": "3.8.5"
  }
 },
 "nbformat": 4,
 "nbformat_minor": 4
}
