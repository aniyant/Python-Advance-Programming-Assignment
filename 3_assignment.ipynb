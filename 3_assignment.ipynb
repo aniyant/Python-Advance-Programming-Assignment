{
 "cells": [
  {
   "cell_type": "code",
   "execution_count": null,
   "metadata": {},
   "outputs": [],
   "source": [
    "1. Create a function to perform basic arithmetic operations \n",
    "that includesadditon, subtraction, multiplication and division \n",
    "on a string number (e.g. \"12 +24\" or \"23 - 21\" or \"12 // 12\" or \"12 * 21\").\n",
    "Here, we have 1 followed by a space, operator followed by another spaceand 2. \n",
    "For the challenge, we are going to have only two numbers between 1valid operator.\n",
    "The return value should be a number.eval() is not allowed.\n",
    "\n",
    "In case of division, whenever the second number equals\"0\" return -1.\n",
    "For example:\"15 // 0\" ➞ -1\n",
    "Examples\n",
    "arithmetic_operation(\"12 + 12\") ➞ 24 // 12 + 12 = 24\n",
    "arithmetic_operation(\"12 - 12\") ➞ 24 // 12 - 12 = 0\n",
    "arithmetic_operation(\"12 * 12\") ➞ 144 // 12 * 12 = 144\n",
    "arithmetic_operation(\"12 // 0\") ➞ -1 // 12 / 0 = -1"
   ]
  },
  {
   "cell_type": "code",
   "execution_count": 25,
   "metadata": {},
   "outputs": [
    {
     "name": "stdout",
     "output_type": "stream",
     "text": [
      "24\n",
      "0\n",
      "144\n",
      "-1\n"
     ]
    }
   ],
   "source": [
    "# program to solve above problem\n",
    "\n",
    "def arithmetic_operation(string):\n",
    "    for s in string:\n",
    "        if s in ['+','-','*','/']:\n",
    "            temp = string.split(s)\n",
    "            num1 = int(temp[0])\n",
    "            num2 = int(temp[1])\n",
    "            \n",
    "            if s == '+':\n",
    "                return num1 + num2\n",
    "            elif s == '-':\n",
    "                return num1 - num2\n",
    "            elif s == '*':\n",
    "                return num1 * num2\n",
    "            elif s == '/':\n",
    "                if num2 == 0:\n",
    "                    return '-1'\n",
    "                else:\n",
    "                    return num1//num2\n",
    "            else:\n",
    "                print(\"..something wrong.\")\n",
    "\n",
    "print(arithmetic_operation(\"12 + 12\"))\n",
    "print(arithmetic_operation(\"12 - 12\"))\n",
    "print(arithmetic_operation(\"12 * 12\"))\n",
    "print(arithmetic_operation(\"12 / 0\"))        \n"
   ]
  },
  {
   "cell_type": "code",
   "execution_count": null,
   "metadata": {},
   "outputs": [],
   "source": [
    "2.) Write a function that takes the coordinates of three points in the form of a\n",
    "2d array and returns the perimeter of the triangle. The given points are the\n",
    "vertices of a triangle on a two-dimensional plane.\n",
    "Examples\n",
    "perimeter( [ [15, 7], [5, 22], [11, 1] ] ) ➞ 47.08\n",
    "perimeter( [ [0, 0], [0, 1], [1, 0] ] ) ➞ 3.42\n",
    "perimeter( [ [-10, -10], [10, 10 ], [-10, 10] ] ) ➞ 68.28"
   ]
  },
  {
   "cell_type": "code",
   "execution_count": 48,
   "metadata": {},
   "outputs": [
    {
     "name": "stdout",
     "output_type": "stream",
     "text": [
      "perimeter: 47.07918859608948\n",
      "perimeter: 3.414213562373095\n",
      "perimeter: 68.2842712474619\n",
      "perimeter of square: 61.678571745395104\n",
      "perimeter of pentagon: 61.678571745395104\n"
     ]
    }
   ],
   "source": [
    "# program to find the perimat of the triangle on a two-dimensional plane\n",
    "\n",
    "def perimeter(lst):\n",
    "    sides = dict()\n",
    "    perimeter = 0\n",
    "    \n",
    "    for l in range(len(lst)):\n",
    "        sides[l] = lst[l]\n",
    "        \n",
    "    for s in range(len(sides.keys())):\n",
    "        if s == len(sides.keys()) - 1:\n",
    "            f = 0\n",
    "            side = ((sides[s][0] - sides[f][0]) ** 2) + ((sides[s][1] - sides[f][1]) ** 2)\n",
    "        else:\n",
    "            side = ((sides[s][0] - sides[s+1][0]) ** 2) + ((sides[s][1] - sides[s+1][1]) ** 2)\n",
    "        \n",
    "        side = side ** (1/2)\n",
    "        perimeter += side\n",
    "        \n",
    "    return perimeter\n",
    "\n",
    "print('perimeter:',perimeter( [ [15, 7], [5, 22], [11, 1] ] ))\n",
    "print('perimeter:',perimeter( [ [0, 0], [0, 1], [1, 0] ] ))\n",
    "print('perimeter:',perimeter( [ [-10, -10], [10, 10 ], [-10, 10] ] ))\n",
    "\n",
    "# It can also produces answer of perimeter of any figure in two-dimensional\n",
    "\n",
    "print('perimeter of square:',perimeter([ [15, 7], [5, 22], [11, 1],[4,9] ]))\n",
    "print('perimeter of pentagon:',perimeter([ [15, 7], [5, 22], [11, 1],[4,9],[15,7] ]))\n"
   ]
  },
  {
   "cell_type": "code",
   "execution_count": null,
   "metadata": {},
   "outputs": [],
   "source": [
    "3.) A city skyline can be represented as a 2-D list with 1s representing\n",
    "buildings. In the example below, the height of the tallest building is 4 (second-\n",
    "most right column).\n",
    "[[0, 0, 0, 0, 0, 0],\n",
    "[0, 0, 0, 0, 1, 0],\n",
    "[0, 0, 1, 0, 1, 0],\n",
    "[0, 1, 1, 1, 1, 0],\n",
    "[1, 1, 1, 1, 1, 1]]\n",
    "\n",
    "Create a function that takes a skyline (2-D list of 0&#39;s and 1&#39;s) and returns the\n",
    "height of the tallest skyscraper.\n",
    "\n",
    "tallest_skyscraper([\n",
    "[0, 0, 0, 0],\n",
    "[0, 1, 0, 0],\n",
    "[0, 1, 1, 0],\n",
    "[1, 1, 1, 1]\n",
    "]) ➞ 3\n",
    "tallest_skyscraper([\n",
    "[0, 1, 0, 0],\n",
    "[0, 1, 0, 0],\n",
    "[0, 1, 1, 0],\n",
    "[1, 1, 1, 1]\n",
    "]) ➞ 4\n",
    "tallest_skyscraper([\n",
    "[0, 0, 0, 0],\n",
    "[0, 0, 0, 0],\n",
    "[1, 1, 1, 0],\n",
    "[1, 1, 1, 1]\n",
    "]) ➞ 2                                        \n",
    "                                        "
   ]
  },
  {
   "cell_type": "code",
   "execution_count": 62,
   "metadata": {},
   "outputs": [
    {
     "name": "stdout",
     "output_type": "stream",
     "text": [
      "tallest building height =  4 at column =  5\n",
      "tallest building height =  3 at column =  2\n",
      "tallest building height =  4 at column =  2\n",
      "tallest building height =  2 at column =  1\n"
     ]
    }
   ],
   "source": [
    "# program to find the height of the building\n",
    "\n",
    "def tallest_skyscraper(lst):\n",
    "    height = []\n",
    "    count = 0\n",
    "    while count < len(lst):\n",
    "        temp = 0\n",
    "        for l in lst:\n",
    "            temp += l[count]\n",
    "            \n",
    "        height.append(temp)\n",
    "        count += 1\n",
    "        \n",
    "    tallest = height.copy()  \n",
    "    ## to find the tallent building height    \n",
    "    tallest.sort()\n",
    "    \n",
    "    print('tallest building height = ',tallest[-1],'at column = ',1+height.index(tallest[-1]))\n",
    " \n",
    "tallest_skyscraper([[0, 0, 0, 0, 0, 0],\n",
    "[0, 0, 0, 0, 1, 0],\n",
    "[0, 0, 1, 0, 1, 0],\n",
    "[0, 1, 1, 1, 1, 0],\n",
    "[1, 1, 1, 1, 1, 1]]\n",
    ")\n",
    "\n",
    "tallest_skyscraper([\n",
    "[0, 0, 0, 0],\n",
    "[0, 1, 0, 0],\n",
    "[0, 1, 1, 0],\n",
    "[1, 1, 1, 1]\n",
    "])\n",
    "tallest_skyscraper([\n",
    "[0, 1, 0, 0],\n",
    "[0, 1, 0, 0],\n",
    "[0, 1, 1, 0],\n",
    "[1, 1, 1, 1]\n",
    "])\n",
    "tallest_skyscraper([\n",
    "[0, 0, 0, 0],\n",
    "[0, 0, 0, 0],\n",
    "[1, 1, 1, 0],\n",
    "[1, 1, 1, 1]\n",
    "]) "
   ]
  },
  {
   "cell_type": "code",
   "execution_count": null,
   "metadata": {},
   "outputs": [],
   "source": [
    "4.) A financial institution provides professional services to banks and claims\n",
    "charges from the customers based on the number of man-days provided.\n",
    "Internally, it has set a scheme to motivate and reward staff to meet and\n",
    "exceed targeted billable utilization and revenues by paying a bonus for each\n",
    "day claimed from customers in excess of a threshold target.\n",
    "This quarterly scheme is calculated with a threshold target of 32 days per\n",
    "quarter, and the incentive payment for each billable day in excess of such\n",
    "threshold target is shown as follows:\n",
    "Days Bonus\n",
    "0 to 32 days Zero\n",
    "33 to 40 days SGD$325 per billable day\n",
    "41 to 48 days SGD$550 per billable day\n",
    "Greater than 48 days SGD$600 per billable day\n",
    "\n",
    "Please note that incentive payment is calculated progressively. As an\n",
    "example, if an employee reached total billable days of 45 in a quarter, his/her\n",
    "incentive payment is computed as follows:\n",
    "32*0 + 8*325 + 5*550 = 5350\n",
    "Write a function to read the billable days of an employee and return the bonus\n",
    "he/she has obtained in that quarter.\n",
    "Examples\n",
    "bonus(15) ➞ 0\n",
    "bonus(37) ➞ 1625\n",
    "bonus(50) ➞ 8200"
   ]
  },
  {
   "cell_type": "code",
   "execution_count": 67,
   "metadata": {},
   "outputs": [
    {
     "name": "stdout",
     "output_type": "stream",
     "text": [
      "bonus: 0\n",
      "bonus: 1625\n",
      "bonus: 8200\n"
     ]
    }
   ],
   "source": [
    "# prgram to calculate the bonus based on the criteria given in the question\n",
    "\n",
    "def bonus(days):\n",
    "    bonus = 0\n",
    "    if days <= 32:\n",
    "        bonus = 0\n",
    "        return bonus\n",
    "    else:\n",
    "        if days  <= 40:\n",
    "            bonus = (days - 32) * 325\n",
    "            return bonus\n",
    "        elif days <= 48:\n",
    "            bonus = (days -40) *550 + (8*325)\n",
    "            return bonus\n",
    "        else:\n",
    "            bonus = (8*325)+(8*550) + (days-48)*600\n",
    "            return bonus\n",
    "        \n",
    "        \n",
    "print(\"bonus:\",bonus(15))\n",
    "print(\"bonus:\",bonus(37))\n",
    "print(\"bonus:\",bonus(50)) "
   ]
  },
  {
   "cell_type": "code",
   "execution_count": null,
   "metadata": {},
   "outputs": [],
   "source": [
    "5.) 5. A number is said to be Disarium if the sum of its digits raised to their\n",
    "respective positions is the number itself.\n",
    "Create a function that determines whether a number is a Disarium or not.\n",
    "Examples\n",
    "is_disarium(75) ➞ False\n",
    "# 7^1 + 5^2 = 7 + 25 = 32\n",
    "is_disarium(135) ➞ True\n",
    "# 1^1 + 3^2 + 5^3 = 1 + 9 + 125 = 135\n",
    "is_disarium(544) ➞ False\n",
    "is_disarium(518) ➞ True\n",
    "is_disarium(466) ➞ False\n",
    "is_disarium(8) ➞ True"
   ]
  },
  {
   "cell_type": "code",
   "execution_count": 68,
   "metadata": {},
   "outputs": [
    {
     "name": "stdout",
     "output_type": "stream",
     "text": [
      "False\n",
      "True..\n",
      "False\n",
      "True..\n"
     ]
    }
   ],
   "source": [
    "# program to find the number is disarium or not\n",
    "\n",
    "def is_disarium(num):\n",
    "    num = str(num)\n",
    "    sum = 0\n",
    "    for n in range(len(num)):\n",
    "        sum += int(num[n]) ** (n+1)\n",
    "        \n",
    "    if sum == int(num):\n",
    "        print('True..')\n",
    "    else:\n",
    "        print(\"False\")\n",
    "        \n",
    "is_disarium(544)\n",
    "is_disarium(518) \n",
    "is_disarium(466) \n",
    "is_disarium(8)     \n",
    "    "
   ]
  },
  {
   "cell_type": "code",
   "execution_count": null,
   "metadata": {},
   "outputs": [],
   "source": []
  }
 ],
 "metadata": {
  "kernelspec": {
   "display_name": "Python 3",
   "language": "python",
   "name": "python3"
  },
  "language_info": {
   "codemirror_mode": {
    "name": "ipython",
    "version": 3
   },
   "file_extension": ".py",
   "mimetype": "text/x-python",
   "name": "python",
   "nbconvert_exporter": "python",
   "pygments_lexer": "ipython3",
   "version": "3.8.5"
  }
 },
 "nbformat": 4,
 "nbformat_minor": 4
}
