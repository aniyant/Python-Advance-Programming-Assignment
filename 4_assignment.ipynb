{
 "cells": [
  {
   "cell_type": "code",
   "execution_count": null,
   "metadata": {},
   "outputs": [],
   "source": [
    "1.) In mathematics, the Fibonacci numbers, commonly denoted Fn, form a\n",
    "sequence, called the Fibonacci sequence, such that each number is the sum\n",
    "of the two preceding ones, starting from 0 and 1:\n",
    "\n",
    "The beginning of the sequence is this:\n",
    "0, 1, 1, 2, 3, 5, 8, 13, 21, 34, 55, 89, 144, ...\n",
    "The function fastFib(num) returns the fibonacci number Fn, of the given num\n",
    "as an argument.\n",
    "\n",
    "Examples\n",
    "fib_fast(5) ➞ 5\n",
    "fib_fast(10) ➞ 55\n",
    "fib_fast(20) ➞ 6765\n",
    "fib_fast(50) ➞ 12586269025"
   ]
  },
  {
   "cell_type": "code",
   "execution_count": 9,
   "metadata": {},
   "outputs": [
    {
     "name": "stdout",
     "output_type": "stream",
     "text": [
      "5\n",
      "55\n",
      "6765\n",
      "12586269025\n"
     ]
    }
   ],
   "source": [
    "# program to calculate the fibonacci series\n",
    "\n",
    "def fib_fast(num):\n",
    "    temp = []\n",
    "    if num == 0:\n",
    "        return 0\n",
    "    a,b = 0,1\n",
    "    for i in range(num):\n",
    "        b = b+a\n",
    "        temp.append(b)\n",
    "        b,a = a,b\n",
    "    \n",
    "    print(temp[-1])\n",
    "\n",
    "fib_fast(5)\n",
    "fib_fast(10)\n",
    "fib_fast(20)\n",
    "fib_fast(50)        "
   ]
  },
  {
   "cell_type": "code",
   "execution_count": null,
   "metadata": {},
   "outputs": [],
   "source": [
    "2.) Create a function that takes a strings characters as ASCII and returns each\n",
    "characters hexadecimal value as a string.\n",
    "Examples\n",
    "convert_to_hex(\"hello world\") ➞ \"68 65 6c 6c 6f 20 77 6f 72 6c 64\"\n",
    "convert_to_hex(\"Big Boi\") ➞ \"42 69 67 20 42 6f 69\"\n",
    "convert_to_hex(\"Marty Poppinson\") ➞ \"4d 61 72 74 79 20 50 6f 70 70 69 6e73 6f 6e\""
   ]
  },
  {
   "cell_type": "code",
   "execution_count": 37,
   "metadata": {},
   "outputs": [
    {
     "name": "stdout",
     "output_type": "stream",
     "text": [
      "b'68656c6c6f20776f726c64'\n",
      "b'42696720426f69'\n",
      "b'4d6172747920506f7070696e736f6e'\n"
     ]
    }
   ],
   "source": [
    "# program to convert ascii value into hexadecimal value\n",
    "\n",
    "import codecs\n",
    "\n",
    "def convert_to_hex(string):\n",
    "    \n",
    "    # changing string into bytes format\n",
    "    string = bytes(string,'utf-8')\n",
    "\n",
    "    hex = codecs.encode(string,'hex')\n",
    "        \n",
    "    print(hex)\n",
    "    \n",
    "\n",
    "convert_to_hex(\"hello world\")\n",
    "convert_to_hex(\"Big Boi\")\n",
    "convert_to_hex(\"Marty Poppinson\")"
   ]
  },
  {
   "cell_type": "code",
   "execution_count": null,
   "metadata": {},
   "outputs": [],
   "source": [
    "3.)Someone has attempted to censor my strings by replacing every vowel\n",
    "with a *, l*k* th*s. Luckily, I've been able to find the vowels that were\n",
    "removed.\n",
    "Given a censored string and a string of the censored vowels, return the\n",
    "original uncensored string.\n",
    "Example\n",
    "uncensor(\"Wh*r* d*d my v*w*ls g*?\", \"eeioeo\") ➞ \"Where did my vowels go?\"\n",
    "uncensor(\"abcd\", \"\") ➞ \"abcd\"\n",
    "uncensor(\"*PP*RC*S*\", \"UEAE\") ➞ \"UPPERCASE\"\n"
   ]
  },
  {
   "cell_type": "code",
   "execution_count": 41,
   "metadata": {},
   "outputs": [
    {
     "name": "stdout",
     "output_type": "stream",
     "text": [
      "Where did my vowels go?\n",
      "abcd\n",
      "UPPERCASE\n"
     ]
    }
   ],
   "source": [
    "# program to print the original uncersored string\n",
    "\n",
    "def uncensor(string,vow):\n",
    "    string = list(string)\n",
    "    vow_index = 0\n",
    "    for s in string:\n",
    "        if s == '*':\n",
    "            string[string.index(s)] = vow[vow_index]\n",
    "            vow_index += 1\n",
    "    \n",
    "    string = ''.join(string)\n",
    "    return string\n",
    "\n",
    "print(uncensor(\"Wh*r* d*d my v*w*ls g*?\", \"eeioeo\"))\n",
    "print(uncensor(\"abcd\", \"\"))\n",
    "print(uncensor(\"*PP*RC*S*\", \"UEAE\"))\n",
    "\n"
   ]
  },
  {
   "cell_type": "code",
   "execution_count": null,
   "metadata": {},
   "outputs": [],
   "source": [
    "4.) Write a function that takes an IP address and \n",
    "returns the domain name using PTR DNS records.\n",
    "Example\n",
    "get_domain(\"8.8.8.8\") ➞ \"dns.google\"\n",
    "get_domain(\"8.8.4.4\") ➞ \"dns.google\""
   ]
  },
  {
   "cell_type": "code",
   "execution_count": 45,
   "metadata": {},
   "outputs": [
    {
     "name": "stdout",
     "output_type": "stream",
     "text": [
      "dns.google\n",
      "dns.google\n"
     ]
    }
   ],
   "source": [
    "# program to get domain name from i.p address given\n",
    "import socket\n",
    "def get_domain(ip):\n",
    "    domain_name = socket.gethostbyaddr(ip)\n",
    "    return domain_name[0]\n",
    "\n",
    "print(get_domain(\"8.8.8.8\"))\n",
    "print(get_domain(\"8.8.4.4\"))"
   ]
  },
  {
   "cell_type": "code",
   "execution_count": null,
   "metadata": {},
   "outputs": [],
   "source": [
    "5.) Create a function that takes an integer n and returns the factorial of\n",
    "factorials. See below examples for a better understanding:\n",
    "Examples\n",
    "fact_of_fact(4) ➞ 288\n",
    "# 4! * 3! * 2! * 1! = 288\n",
    "fact_of_fact(5) ➞ 34560\n",
    "fact_of_fact(6) ➞ 24883200"
   ]
  },
  {
   "cell_type": "code",
   "execution_count": 3,
   "metadata": {},
   "outputs": [
    {
     "name": "stdout",
     "output_type": "stream",
     "text": [
      "factorial of factorial : 288\n",
      "factorial of factorial : 34560\n",
      "factorial of factorial : 24883200\n"
     ]
    }
   ],
   "source": [
    "# program to returns factorial of the factorial\n",
    "\n",
    "def fact_of_fact(num):\n",
    "    def fact(n):\n",
    "        if n == 1:\n",
    "            return 1\n",
    "        else:\n",
    "            factorial = n * fact(n-1)\n",
    "            return factorial\n",
    "        \n",
    "    factorial = 1\n",
    "    for i in range(1,num+1):\n",
    "        factorial = factorial * fact(i)\n",
    "    \n",
    "    return factorial \n",
    "                                     \n",
    "print(\"factorial of factorial :\",fact_of_fact(4))\n",
    "print(\"factorial of factorial :\",fact_of_fact(5))\n",
    "print(\"factorial of factorial :\",fact_of_fact(6))"
   ]
  },
  {
   "cell_type": "code",
   "execution_count": null,
   "metadata": {},
   "outputs": [],
   "source": []
  }
 ],
 "metadata": {
  "kernelspec": {
   "display_name": "Python 3",
   "language": "python",
   "name": "python3"
  },
  "language_info": {
   "codemirror_mode": {
    "name": "ipython",
    "version": 3
   },
   "file_extension": ".py",
   "mimetype": "text/x-python",
   "name": "python",
   "nbconvert_exporter": "python",
   "pygments_lexer": "ipython3",
   "version": "3.8.5"
  }
 },
 "nbformat": 4,
 "nbformat_minor": 4
}
