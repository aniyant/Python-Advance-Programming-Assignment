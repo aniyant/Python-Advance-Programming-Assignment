{
 "cells": [
  {
   "cell_type": "code",
   "execution_count": null,
   "metadata": {},
   "outputs": [],
   "source": [
    "1. Create a function that transposes a 2D matrix.\n",
    "Examples\n",
    "transpose_matrix([\n",
    "[1, 1, 1],\n",
    "[2, 2, 2],\n",
    "[3, 3, 3]\n",
    "]) ➞[\n",
    "[1, 2, 3],\n",
    "[1, 2, 3],\n",
    "[1, 2, 3]\n",
    "]\n",
    "transpose_matrix([\n",
    "[5, 5],\n",
    "[6, 7],\n",
    "[9, 1]\n",
    "]) ➞ [\n",
    "[5, 6, 9],\n",
    "[5, 7, 1]\n",
    "]"
   ]
  },
  {
   "cell_type": "code",
   "execution_count": 38,
   "metadata": {},
   "outputs": [
    {
     "name": "stdout",
     "output_type": "stream",
     "text": [
      "[[5, 6, 9], [5, 7, 1]]\n",
      "[[1, 2, 3], [1, 2, 3], [1, 2, 3]]\n"
     ]
    }
   ],
   "source": [
    "# program to create a function that transpose a 2D matrix\n",
    "\n",
    "def transpose_matrix(lst):\n",
    "    temp = []\n",
    "    \n",
    "\n",
    "    for i in range(len(lst[0])):\n",
    "        t = list()\n",
    "        for j in range(len(lst)):\n",
    "            t.append(lst[j][i])\n",
    "        temp.append(t)\n",
    "        \n",
    "    print(temp)\n",
    " \n",
    "transpose_matrix([\n",
    "[5, 5],\n",
    "[6, 7],\n",
    "[9, 1]\n",
    "])\n",
    "transpose_matrix([\n",
    "[1, 1, 1],\n",
    "[2, 2, 2],\n",
    "[3, 3, 3]\n",
    "])"
   ]
  },
  {
   "cell_type": "code",
   "execution_count": null,
   "metadata": {},
   "outputs": [],
   "source": [
    "2. Create a function that determines whether a string is a valid hex code.\n",
    "A hex code must begin with a pound key # and is exactly 6 characters in\n",
    "length. Each character must be a digit from 0-9 or an alphabetic character\n",
    "from A-F. All alphabetic characters may be uppercase or lowercase.\n",
    "Examples\n",
    "is_valid_hex_code(\"#CD5C5C\") ➞ True\n",
    "is_valid_hex_code(\"#EAECEE\") ➞ True\n",
    "is_valid_hex_code(\"#eaecee\") ➞ True\n",
    "is_valid_hex_code(\"#CD5C58C\") ➞ False\n",
    "# Length exceeds 6\n",
    "is_valid_hex_code(\"#CD5C5Z\") ➞ False\n",
    "# Not all alphabetic characters in A-F\n",
    "is_valid_hex_code(\"#CD5C&amp;C\") ➞ False\n",
    "# Contains unacceptable character\n",
    "is_valid_hex_code(\"CD5C5C\") ➞ False\n",
    "# Missing #"
   ]
  },
  {
   "cell_type": "code",
   "execution_count": 43,
   "metadata": {},
   "outputs": [
    {
     "name": "stdout",
     "output_type": "stream",
     "text": [
      "True\n",
      "True\n",
      "True\n",
      "False : length exceeds 6\n",
      "False : Not all alphabetic character in A-F\n",
      "False : length exceeds 6\n",
      "False : length exceeds 6\n"
     ]
    }
   ],
   "source": [
    "# program to solve the above problem statement\n",
    "\n",
    "def is_valid_hex_code(string):\n",
    "    char = ['a','b','c','d','e','f','0','1','2','3','4','5','6','7','8','9']\n",
    "    if len(string) == 7: # includeing #\n",
    "        if string[0] == '#':\n",
    "            for i in range(1,len(string)):\n",
    "                if string[i].lower() in char:\n",
    "                    continue\n",
    "                else:\n",
    "                    print(False,': Not all alphabetic character in A-F')\n",
    "                    break\n",
    "            else:\n",
    "                print(True)\n",
    "        else:\n",
    "            print(False,': Missing #')\n",
    "    else:\n",
    "        print(False,': length exceeds 6')\n",
    "\n",
    "is_valid_hex_code(\"#CD5C5C\") \n",
    "is_valid_hex_code(\"#EAECEE\") \n",
    "is_valid_hex_code(\"#eaecee\")\n",
    "is_valid_hex_code(\"#CD5C58C\") \n",
    "# Length exceeds 6\n",
    "is_valid_hex_code(\"#CD5C5Z\") \n",
    "# Not all alphabetic characters in A-F\n",
    "is_valid_hex_code(\"#CD5C&amp;C\")\n",
    "# Contains unacceptable character\n",
    "is_valid_hex_code(\"CD5C5C\") \n",
    "# Missing #"
   ]
  },
  {
   "cell_type": "code",
   "execution_count": 47,
   "metadata": {},
   "outputs": [],
   "source": [
    "3. Given a list of math equations (given as strings), return the percentage of\n",
    "correct answers as a string. Round to the nearest whole number.\n",
    "Examples\n",
    "mark_maths([\"2+2=4\", \"3+2=5\", \"10-3=3\", \"5+5=10\"]) ➞ \"75%\"\n",
    "mark_maths([\"1-2=-2\"]), \"0%\"\n",
    "mark_maths([\"2+3=5\", \"4+4=9\", \"3-1=2\"]) ➞ \"67%\""
   ]
  },
  {
   "cell_type": "code",
   "execution_count": 91,
   "metadata": {},
   "outputs": [
    {
     "name": "stdout",
     "output_type": "stream",
     "text": [
      "75%\n",
      "0%\n",
      "67%\n"
     ]
    }
   ],
   "source": [
    "# program to solve the above problem statement\n",
    "\n",
    "def mark_maths(lst):\n",
    "    correct = 0\n",
    "    total = len(lst)\n",
    "    for l in lst:\n",
    "        for c in l:\n",
    "            if c in ['-','+','*','/']:\n",
    "                sign = c\n",
    "                break\n",
    "      \n",
    "        temp = l.split(sign)\n",
    "        d1 = temp[0]\n",
    "        d2 = temp[-1].split('=')[0]\n",
    "        res = temp[-1].split('=')[-1]\n",
    "            \n",
    "        if sign == '+':\n",
    "            if int(s[0]) + int(s[2]) == int(s[-1]):\n",
    "                correct += 1\n",
    "        if s[1] == '-':\n",
    "            if int(s[0]) - int(s[2]) == int(s[-1]):\n",
    "                correct += 1\n",
    "                    \n",
    "    percent = round((correct/total) * 100)\n",
    "    print(f\"{percent}%\") \n",
    "\n",
    "mark_maths([\"2+2=4\", \"3+2=5\", \"10-3=3\", \"5+5=10\"])\n",
    "mark_maths([\"1-2=-2\"])\n",
    "mark_maths([\"2+3=5\", \"4+4=9\", \"3-1=2\"])\n",
    "        "
   ]
  },
  {
   "cell_type": "code",
   "execution_count": 55,
   "metadata": {},
   "outputs": [],
   "source": [
    "4. There are two players, Alice and Bob, each with a 3-by-3 grid. A referee\n",
    "tells Alice to fill out one particular row in the grid (say the second row) by\n",
    "putting either a 1 or a 0 in each box, such that the sum of the numbers in that\n",
    "row is odd. The referee tells Bob to fill out one column in the grid (say the first\n",
    "column) by putting either a 1 or a 0 in each box, such that the sum of the\n",
    "numbers in that column is even.\n",
    "Alice and Bob win the game if Alice’s numbers give an odd sum, Bob’s give\n",
    "an even sum, and (most important) they’ve each written down the same\n",
    "number in the one square where their row and column intersect.\n",
    "Examples\n",
    "magic_square_game([2, \"100\"], [1, \"101\"]) ➞ False\n",
    "magic_square_game([2, \"001\"], [1, \"101\"]) ➞ True\n",
    "magic_square_game([3, \"111\"], [2, \"011\"]) ➞ True\n",
    "magic_square_game([1, \"010\"], [3, \"101\"]) ➞ False\n",
    "# Two lists, Alice [row, \"her choice\"], Bob [column, \"his choice\"]"
   ]
  },
  {
   "cell_type": "code",
   "execution_count": 104,
   "metadata": {},
   "outputs": [
    {
     "name": "stdout",
     "output_type": "stream",
     "text": [
      "False\n",
      "True\n",
      "True\n",
      "False\n"
     ]
    }
   ],
   "source": [
    "# program to solve the above problem statment\n",
    "\n",
    "def magic_square_game(lst1,lst2):\n",
    "    temp1 = list()\n",
    "    temp2 = list()\n",
    "    for l in list(lst1[1]):\n",
    "        temp1.append(int(l))\n",
    "    for l in list(lst2[1]):\n",
    "        temp2.append(int(l))\n",
    "    \n",
    "    row = lst1[0]\n",
    "    col = lst2[0]\n",
    "    \n",
    "    temp1[col-1] = temp2[row-1]\n",
    "    \n",
    "    if (sum(temp1) % 2 == 1) and (sum(temp2) % 2 ==0):\n",
    "        print(True)\n",
    "    else:\n",
    "        print(False)\n",
    "        \n",
    "magic_square_game([2, \"100\"], [1, \"101\"]) \n",
    "magic_square_game([2, \"001\"], [1, \"101\"]) \n",
    "magic_square_game([3, \"111\"], [2, \"011\"]) \n",
    "magic_square_game([1, \"010\"], [3, \"101\"]) \n",
    "# Two lists, Alice [row, \"her choice\"], Bob [column, \"his choice\"]"
   ]
  },
  {
   "cell_type": "code",
   "execution_count": null,
   "metadata": {},
   "outputs": [],
   "source": [
    "5. From point A, an object is moving towards point B at constant velocity va\n",
    "(in km/hr). From point B, another object is moving towards point A at constant\n",
    "velocity vb (in km/hr). Knowing this and the distance between point A and B\n",
    "(in km), write a function that returns how much time passes until both objects\n",
    "meet.\n",
    "Format the output like this:\n",
    "\n",
    "\"2h 23min 34s\"\n",
    "Examples\n",
    "lets_meet(100, 10, 30) ➞\"2h 30min 0s\"\n",
    "lets_meet(280, 70, 80) ➞ \"1h 52min 0s\"\n",
    "lets_meet(90, 75, 65) ➞ \"0h 38min 34s\""
   ]
  },
  {
   "cell_type": "code",
   "execution_count": 124,
   "metadata": {},
   "outputs": [
    {
     "name": "stdout",
     "output_type": "stream",
     "text": [
      "2h 30min 0s\n",
      "1h 52min 0s\n",
      "0h 38min 34s\n"
     ]
    }
   ],
   "source": [
    "# program to solve the above problem statement\n",
    "\n",
    "def lets_meet(d,a,b):\n",
    "    total_speed = (a + b) / (60*60)\n",
    "\n",
    "    time = int(d/total_speed)\n",
    "    \n",
    "    minutes, seconds = divmod(time,60)\n",
    "    hours,minutes = divmod(minutes,60)\n",
    "    \n",
    "    print(f\"{hours}h {minutes}min {seconds}s\")\n",
    "    \n",
    "lets_meet(100, 10, 30) \n",
    "lets_meet(280, 70, 80) \n",
    "lets_meet(90, 75, 65) "
   ]
  },
  {
   "cell_type": "code",
   "execution_count": null,
   "metadata": {},
   "outputs": [],
   "source": []
  }
 ],
 "metadata": {
  "kernelspec": {
   "display_name": "Python 3",
   "language": "python",
   "name": "python3"
  },
  "language_info": {
   "codemirror_mode": {
    "name": "ipython",
    "version": 3
   },
   "file_extension": ".py",
   "mimetype": "text/x-python",
   "name": "python",
   "nbconvert_exporter": "python",
   "pygments_lexer": "ipython3",
   "version": "3.8.5"
  }
 },
 "nbformat": 4,
 "nbformat_minor": 4
}
