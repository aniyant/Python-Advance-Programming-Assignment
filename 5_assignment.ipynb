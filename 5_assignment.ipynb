{
 "cells": [
  {
   "cell_type": "code",
   "execution_count": null,
   "metadata": {},
   "outputs": [],
   "source": [
    "1.) Create a function that takes a number n (integer greater than zero) as an\n",
    "argument, and returns 2 if n is odd and 8 if n is even.\n",
    "You can only use the following arithmetic operators: addition of numbers +,\n",
    "subtraction of numbers -, multiplication of number *, division of number /, and\n",
    "exponentiation **.\n",
    "You are not allowed to use any other methods in this challenge (i.e. no if\n",
    "statements, comparison operators, etc).\n",
    "Examples\n",
    "f(1) ➞ 2\n",
    "f(2) ➞ 8\n",
    "f(3) ➞ 2"
   ]
  },
  {
   "cell_type": "code",
   "execution_count": 10,
   "metadata": {},
   "outputs": [
    {
     "name": "stdout",
     "output_type": "stream",
     "text": [
      "2\n",
      "8\n",
      "2\n"
     ]
    }
   ],
   "source": [
    "# program to return odd even without using conditionals and comparision \n",
    "\n",
    "def f(num):\n",
    "    re = [8,2]\n",
    "    \n",
    "    # we are doing bitwise operation here\n",
    "    return re[num&1]\n",
    "\n",
    "print(f(1))\n",
    "print(f(2))\n",
    "print(f(3))"
   ]
  },
  {
   "cell_type": "code",
   "execution_count": null,
   "metadata": {},
   "outputs": [],
   "source": [
    "2.) Create a function that returns the majority vote in a list. A majority vote is\n",
    "an element that occurs > N/2 times in a list (where N is the length of the list).\n",
    "Examples\n",
    "majority_vote([\"A\", \"A\", \"B\"]) ➞ \"A\"\n",
    "majority_vote([\"A\", \"A\", \"A\", \"B\", \"C\", \"A\"]) ➞ \"A\"\n",
    "majority_vote([\"A\", \"B\", \"B\", \"A\", \"C\", \"C\"]) ➞ None"
   ]
  },
  {
   "cell_type": "code",
   "execution_count": 21,
   "metadata": {},
   "outputs": [
    {
     "name": "stdout",
     "output_type": "stream",
     "text": [
      "A\n",
      "A\n",
      "None\n"
     ]
    }
   ],
   "source": [
    "# program to count the majority in the list\n",
    "\n",
    "def majority_vote(lst):\n",
    "    majority = dict()\n",
    "    for l in lst:\n",
    "        if l not in majority.keys():\n",
    "            majority[l] = 1\n",
    "        else:\n",
    "            majority[l] += 1\n",
    "    \n",
    "    for k,v in majority.items():\n",
    "        if v > len(lst)/2:\n",
    "            return k\n",
    "        \n",
    "print(majority_vote([\"A\", \"A\", \"B\"]))\n",
    "print(majority_vote([\"A\", \"A\", \"A\", \"B\", \"C\", \"A\"]))\n",
    "print(majority_vote([\"A\", \"B\", \"B\", \"A\", \"C\", \"C\"]))    \n"
   ]
  },
  {
   "cell_type": "code",
   "execution_count": null,
   "metadata": {},
   "outputs": [],
   "source": [
    "3.) Create a function that takes a string txt and censors any word from a given\n",
    "list lst. The text removed must be replaced by the given character char.\n",
    "Examples\n",
    "censor_string(\"Today is a Wednesday!\", [\"Today\", \"a\"], \"-\") ➞ \"----- is -Wednesday!\"\n",
    "censor_string(\"The cow jumped over the moon.\", [\"cow\", \"over\"], \"*\"), \"The ***jumped **** the moon.\")\n",
    "censor_string(\"Why did the chicken cross the road?\", [\"Did\", \"chicken\",\"road\"], \"*\") ➞ \"Why *** the ******* cross the ****?\""
   ]
  },
  {
   "cell_type": "code",
   "execution_count": 32,
   "metadata": {},
   "outputs": [
    {
     "name": "stdout",
     "output_type": "stream",
     "text": [
      "----- is - Wednesday!\n",
      "The *** jumped **** the moon.\n",
      "Why did the ******* cross the road?\n"
     ]
    }
   ],
   "source": [
    "# program to censor givens words in a sentence\n",
    "\n",
    "def censor_string(string,lst,cen):\n",
    "    string = string.split(' ')\n",
    "    \n",
    "    for s in range(len(string)):\n",
    "        if string[s] in lst:\n",
    "            string[s] = len(string[s])*cen\n",
    "            \n",
    "    print(' '.join(string))\n",
    "\n",
    "censor_string(\"Today is a Wednesday!\", [\"Today\", \"a\"], \"-\")\n",
    "censor_string(\"The cow jumped over the moon.\", [\"cow\", \"over\"], \"*\")\n",
    "censor_string(\"Why did the chicken cross the road?\", [\"Did\", \"chicken\",\"road\"], \"*\")\n",
    "    \n",
    "    "
   ]
  },
  {
   "cell_type": "code",
   "execution_count": null,
   "metadata": {},
   "outputs": [],
   "source": [
    "4. In mathematics a Polydivisible Number (or magic number) is a number in a\n",
    "given number base with digits abcde... that has the following properties:\n",
    "- Its first digit a is not 0.\n",
    "- The number formed by its first two digits ab is a multiple of 2.\n",
    "- The number formed by its first three digits abc is a multiple of 3.\n",
    "- The number formed by its first four digits abcd is a multiple of 4.\n",
    "Create a function which takes an integer n and returns True if the given\n",
    "number is a Polydivisible Number and False otherwise.\n",
    "Examples\n",
    "is_polydivisible(1232) ➞ True\n",
    "# 1 / 1 = 1\n",
    "# 12 / 2 = 6\n",
    "# 123 / 3 = 41\n",
    "# 1232 / 4 = 308\n",
    "is_polydivisible(123220 ) ➞ False\n",
    "# 1 / 1 = 1\n",
    "# 12 / 2 = 6\n",
    "# 123 / 3 = 41\n",
    "# 1232 / 4 = 308\n",
    "# 12322 / 5 = 2464.4 # Not a Whole Number\n",
    "# 123220 /6 = 220536.333... # Not a Whole Number"
   ]
  },
  {
   "cell_type": "code",
   "execution_count": 54,
   "metadata": {},
   "outputs": [
    {
     "name": "stdout",
     "output_type": "stream",
     "text": [
      "False\n",
      "False\n",
      "True\n",
      "True\n"
     ]
    }
   ],
   "source": [
    "# program to check if number is polydivisible or not\n",
    "\n",
    "def is_polydivisible(num):\n",
    "    num = str(num)\n",
    "    \n",
    "    for i in range(len(num)):\n",
    "        if int(num[0:i+1])% (i+1) != 0:\n",
    "            return False\n",
    "\n",
    "    return True  \n",
    "print(is_polydivisible(1234))\n",
    "print(is_polydivisible(123220))\n",
    "print(is_polydivisible(56))\n",
    "print(is_polydivisible(3216))"
   ]
  },
  {
   "cell_type": "code",
   "execution_count": null,
   "metadata": {},
   "outputs": [],
   "source": [
    "5.) Create a function that takes a list of numbers and returns the sum of all\n",
    "prime numbers in the list.\n",
    "Examples\n",
    "sum_primes([1, 2, 3, 4, 5, 6, 7, 8, 9, 10]) ➞ 17\n",
    "sum_primes([2, 3, 4, 11, 20, 50, 71]) ➞ 87\n",
    "sum_primes([]) ➞ None"
   ]
  },
  {
   "cell_type": "code",
   "execution_count": 62,
   "metadata": {},
   "outputs": [
    {
     "name": "stdout",
     "output_type": "stream",
     "text": [
      "17\n",
      "87\n",
      "0\n"
     ]
    }
   ],
   "source": [
    "# program to return sum omef the prime numbers in the list\n",
    "\n",
    "def sum_primes(lst):\n",
    "    temp = []\n",
    "    for l in lst:\n",
    "        if l > 1:\n",
    "            for i in range(2,l):\n",
    "                if l%i == 0:\n",
    "                    break\n",
    "            else:\n",
    "                temp.append(l)\n",
    "            \n",
    "    return sum(temp)\n",
    "\n",
    "print(sum_primes([1, 2, 3, 4, 5, 6, 7, 8, 9, 10]))\n",
    "print(sum_primes([2, 3, 4, 11, 20, 50, 71]))\n",
    "print(sum_primes([]))"
   ]
  },
  {
   "cell_type": "code",
   "execution_count": null,
   "metadata": {},
   "outputs": [],
   "source": []
  }
 ],
 "metadata": {
  "kernelspec": {
   "display_name": "Python 3",
   "language": "python",
   "name": "python3"
  },
  "language_info": {
   "codemirror_mode": {
    "name": "ipython",
    "version": 3
   },
   "file_extension": ".py",
   "mimetype": "text/x-python",
   "name": "python",
   "nbconvert_exporter": "python",
   "pygments_lexer": "ipython3",
   "version": "3.8.5"
  }
 },
 "nbformat": 4,
 "nbformat_minor": 4
}
