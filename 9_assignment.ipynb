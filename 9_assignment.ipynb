{
 "cells": [
  {
   "cell_type": "code",
   "execution_count": null,
   "metadata": {},
   "outputs": [],
   "source": [
    "1.) YouTube offers different playback speed options for users. This allows\n",
    "users to increase or decrease the speed of the video content. Given the\n",
    "actual duration and playback speed of the video, calculate the playback\n",
    "duration of the video.\n",
    "Examples\n",
    "playback_duration(\"00:30:00\", 2) ➞ \"00:15:00\"\n",
    "playback_duration(\"01:20:00\", 1.5) ➞ \"00:53:20\"\n",
    "playback_duration(\"51:20:09\", 0.5) ➞ \"102:40:18\""
   ]
  },
  {
   "cell_type": "code",
   "execution_count": 40,
   "metadata": {},
   "outputs": [
    {
     "name": "stdout",
     "output_type": "stream",
     "text": [
      "00:15:0\n",
      "00:53:20\n",
      "102:40:18\n"
     ]
    }
   ],
   "source": [
    "# program ot calculate the duration of the youtube video based on speed\n",
    "\n",
    "def playback_duration(time_str,speed):\n",
    "    time = time_str.split(':')\n",
    "    \n",
    "    duration = int(time[0])*60*60 + int(time[1])*60 + int(time[2]) \n",
    "\n",
    "    duration = round(duration//speed)\n",
    "    \n",
    "    \n",
    "    if duration >= 3600:\n",
    "        m = duration % (60*60)\n",
    "        hours = str((duration-m)//(60*60))\n",
    "    else:\n",
    "        m = duration\n",
    "        hours = \"00\"\n",
    "        \n",
    "    \n",
    "    s = m % 60\n",
    "    minutes = (m-s)//60\n",
    "    seconds = s\n",
    "    \n",
    "    print(':'.join([str(hours),str(minutes),str(seconds)]))\n",
    "    \n",
    "playback_duration(\"00:30:00\", 2)\n",
    "playback_duration(\"01:20:00\", 1.5) \n",
    "playback_duration(\"51:20:09\", 0.5)  "
   ]
  },
  {
   "cell_type": "code",
   "execution_count": null,
   "metadata": {},
   "outputs": [],
   "source": [
    "2.) We needs your help to construct a building which will be a pile of n cubes.\n",
    "The cube at the bottom will have a volume of n^3, the cube above will have\n",
    "volume of (n-1)^3 and so on until the top which will have a volume of 1^3.\n",
    "Given the total volume m of the building, can you find the number of cubes n\n",
    "required for the building?\n",
    "In other words, you have to return an integer n such that:\n",
    "n^3 + (n-1)^3 + ... + 1^3 == m\n",
    "Return None if there is no such number.\n",
    "Examples\n",
    "pile_of_cubes(1071225) ➞ 45\n",
    "pile_of_cubes(4183059834009) ➞ 2022\n",
    "pile_of_cubes(16) ➞ None"
   ]
  },
  {
   "cell_type": "code",
   "execution_count": 54,
   "metadata": {},
   "outputs": [
    {
     "name": "stdout",
     "output_type": "stream",
     "text": [
      "45\n",
      "2022\n",
      "None\n"
     ]
    }
   ],
   "source": [
    "# program to solve the above problem statement\n",
    "\n",
    "def pile_of_cubes(volume):\n",
    "    \n",
    "    vol = 0\n",
    "    count = 0\n",
    "    while vol <= volume:\n",
    "        vol += count ** 3\n",
    "        count += 1\n",
    "        if vol == volume:\n",
    "            return count-1\n",
    "\n",
    "    return None\n",
    "    \n",
    "print(pile_of_cubes(1071225))\n",
    "print(pile_of_cubes(4183059834009))\n",
    "print(pile_of_cubes(16))"
   ]
  },
  {
   "cell_type": "code",
   "execution_count": null,
   "metadata": {},
   "outputs": [],
   "source": [
    "3.) A fulcrum of a list is an integer such that all elements to the left of it and all\n",
    "elements to the (right of it sum to the same value. Write a function that finds\n",
    "the fulcrum of a list.\n",
    "To illustrate:\n",
    "find_fulcrum([3, 1, 5, 2, 4, 6, -1]) ➞ 2\n",
    "// Since [3, 1, 5] and [4, 6, -1] both sum to 9\n",
    "\n",
    "Examples\n",
    "\n",
    "find_fulcrum([1, 2, 4, 9, 10, -10, -9, 3]) ➞ 4\n",
    "find_fulcrum([9, 1, 9]) ➞ 1)\n",
    "find_fulcrum([7, -1, 0, -1, 1, 1, 2, 3]) ➞ 0\n",
    "find_fulcrum([8, 8, 8, 8]) ➞ -1\n"
   ]
  },
  {
   "cell_type": "code",
   "execution_count": 83,
   "metadata": {},
   "outputs": [
    {
     "name": "stdout",
     "output_type": "stream",
     "text": [
      "4 is the fulcrum\n",
      "1 is the fulcrum\n",
      "0 is the fulcrum\n",
      "There is no fulcrum in the list.\n"
     ]
    }
   ],
   "source": [
    "# program to find the fulcrum of list\n",
    "\n",
    "def find_fulcrum(lst):\n",
    "    \n",
    "    for i in range(1,len(lst)):\n",
    "        if i == len(lst) -1:\n",
    "            print(\"There is no fulcrum in the list.\")\n",
    "            break\n",
    "              \n",
    "        if (sum(lst[0:i]) == sum(lst[i+1:len(lst)])):\n",
    "            print(lst[i],\"is the fulcrum\")\n",
    "            break\n",
    "            \n",
    "                \n",
    "find_fulcrum([1, 2, 4, 9, 10, -10, -9, 3])\n",
    "find_fulcrum([9, 1, 9]) \n",
    "find_fulcrum([7, -1, 0, -1, 1, 1, 2, 3])\n",
    "find_fulcrum([8, 8, 8, 8])\n",
    "                \n"
   ]
  },
  {
   "cell_type": "code",
   "execution_count": null,
   "metadata": {},
   "outputs": [],
   "source": [
    "4.) Given a list of integers representing the color of each sock, determine how\n",
    "many pairs of socks with matching colors there are. For example, there are 7\n",
    "socks with colors [1, 2, 1, 2, 1, 3, 2]. There is one pair of color 1 and one of\n",
    "color 2. There are three odd socks left, one of each color. The number of\n",
    "pairs is 2.\n",
    "Create a function that returns an integer representing the number of matching\n",
    "pairs of socks that are available.\n",
    "Examples\n",
    "sock_merchant([10, 20, 20, 10, 10, 30, 50, 10, 20]) ➞ 3\n",
    "sock_merchant([50, 20, 30, 90, 30, 20, 50, 20, 90]) ➞ 4\n",
    "sock_merchant([]) ➞ 0"
   ]
  },
  {
   "cell_type": "code",
   "execution_count": 99,
   "metadata": {},
   "outputs": [
    {
     "name": "stdout",
     "output_type": "stream",
     "text": [
      "3\n",
      "4\n",
      "0\n"
     ]
    }
   ],
   "source": [
    "# program to create pairs of the socks\n",
    "\n",
    "def sock_merchant(lst):\n",
    "    pairs = dict()\n",
    "    count = 0\n",
    "    for i in lst:\n",
    "        if i not in pairs.keys():\n",
    "            pairs[i] = 1\n",
    "        else:\n",
    "            pairs[i] += 1\n",
    "            \n",
    "    for p in pairs.values():\n",
    "        if p >= 2:\n",
    "            count += p//2\n",
    "    \n",
    "    print(count)\n",
    "\n",
    "sock_merchant([10, 20, 20, 10, 10, 30, 50, 10, 20])\n",
    "sock_merchant([50, 20, 30, 90, 30, 20, 50, 20, 90])\n",
    "sock_merchant([])"
   ]
  },
  {
   "cell_type": "code",
   "execution_count": null,
   "metadata": {},
   "outputs": [],
   "source": [
    "5.) Create a function that takes a string containing integers as well as other\n",
    "characters and return the sum of the negative integers only.\n",
    "Examples\n",
    "negative_sum(\"-12 13%14&-11\") \n",
    "# -12 + -11 = -23\n",
    "negative_sum(\"22 13%14&-11-22 13 12\") \n",
    "# -11 + -22 = -33"
   ]
  },
  {
   "cell_type": "code",
   "execution_count": 129,
   "metadata": {},
   "outputs": [
    {
     "name": "stdout",
     "output_type": "stream",
     "text": [
      "-23\n",
      "-33\n"
     ]
    }
   ],
   "source": [
    "# program to solve the above problem\n",
    "import re\n",
    "\n",
    "def negative_sum(string):\n",
    "    reg = re.findall(\"-\\d+\",string)\n",
    "    for r in range(len(reg)):\n",
    "        reg[r] = int(reg[r])\n",
    "    print(sum(reg))\n",
    "    \n",
    "negative_sum(\"-12 13%14&-11\") \n",
    "# -12 + -11 = -23\n",
    "negative_sum(\"22 13%14&-11-22 13 12\") \n",
    "# -11 + -22 = -33"
   ]
  },
  {
   "cell_type": "code",
   "execution_count": null,
   "metadata": {},
   "outputs": [],
   "source": []
  }
 ],
 "metadata": {
  "kernelspec": {
   "display_name": "Python 3",
   "language": "python",
   "name": "python3"
  },
  "language_info": {
   "codemirror_mode": {
    "name": "ipython",
    "version": 3
   },
   "file_extension": ".py",
   "mimetype": "text/x-python",
   "name": "python",
   "nbconvert_exporter": "python",
   "pygments_lexer": "ipython3",
   "version": "3.8.5"
  }
 },
 "nbformat": 4,
 "nbformat_minor": 4
}
