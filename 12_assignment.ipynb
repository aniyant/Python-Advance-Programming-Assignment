{
 "cells": [
  {
   "cell_type": "code",
   "execution_count": null,
   "metadata": {},
   "outputs": [],
   "source": [
    "1.) For this challenge, forget how to add two numbers together. The best\n",
    "explanation on what to do for this function is this meme:\n",
    "    \n",
    "Examples\n",
    "meme_sum(26, 39) ➞ 515\n",
    "# 2+3 = 5, 6+9 = 15\n",
    "# 26 + 39 = 515\n",
    "meme_sum(122, 81) ➞ 1103\n",
    "# 1+0 = 1, 2+8 = 10, 2+1 = 3\n",
    "# 122 + 81 = 1103\n",
    "meme_sum(1222, 30277) ➞ 31499"
   ]
  },
  {
   "cell_type": "code",
   "execution_count": 21,
   "metadata": {},
   "outputs": [
    {
     "name": "stdout",
     "output_type": "stream",
     "text": [
      "515\n",
      "1103\n",
      "31499\n"
     ]
    }
   ],
   "source": [
    "# program to add two numbers using meme sum formula\n",
    "\n",
    "def meme_sum(num1,num2):\n",
    "    num1 = str(num1)\n",
    "    num2 = str(num2)\n",
    "    \n",
    "    result = str()\n",
    "    count = abs(len(num1) - len(num2))\n",
    "    \n",
    "    if len(num1) < len(num2):\n",
    "        num1,num2 = num2,num1\n",
    "    \n",
    "    for i in range(len(num1)):\n",
    "        if i < count:\n",
    "            result += num1[i]\n",
    "            \n",
    "        else:\n",
    "            result += str(int(num1[i])+int(num2[i-count]))\n",
    "            \n",
    "    print(result)\n",
    "        \n",
    "meme_sum(26, 39) \n",
    "\n",
    "meme_sum(122, 81) \n",
    "\n",
    "meme_sum(1222, 30277)        \n",
    "    \n",
    "    "
   ]
  },
  {
   "cell_type": "code",
   "execution_count": 4,
   "metadata": {},
   "outputs": [],
   "source": [
    "2.) Given an integer, create a function that returns the next prime. If the\n",
    "number is prime, return the number itself.\n",
    "Examples\n",
    "next_prime(12) ➞ 13\n",
    "\n"
   ]
  },
  {
   "cell_type": "code",
   "execution_count": 27,
   "metadata": {},
   "outputs": [
    {
     "name": "stdout",
     "output_type": "stream",
     "text": [
      "13\n",
      "29\n",
      "11\n"
     ]
    }
   ],
   "source": [
    "# program to check next number is prime or not\n",
    "\n",
    "def next_prime(num):\n",
    "    for i in range(2,num//2+1):\n",
    "        if num%i == 0:\n",
    "            next_prime(num+1)\n",
    "            break\n",
    "            \n",
    "    else:\n",
    "        print(num)\n",
    "        \n",
    "next_prime(12)\n",
    "next_prime(24) \n",
    "next_prime(11) "
   ]
  },
  {
   "cell_type": "code",
   "execution_count": null,
   "metadata": {},
   "outputs": [],
   "source": [
    "3.) If a person traveled up a hill for 18mins at 20mph and then traveled back\n",
    "down the same path at 60mph then their average speed traveled was 30mph.\n",
    "Write a function that returns the average speed traveled given an uphill time,\n",
    "uphill rate and a downhill rate. Uphill time is given in minutes. Return the rate\n",
    "as an integer (mph). No rounding is necessary.\n",
    "Examples\n",
    "ave_spd(18, 20, 60)\n",
    "ave_spd(30, 10, 30)\n",
    "ave_spd(30, 8, 24)"
   ]
  },
  {
   "cell_type": "code",
   "execution_count": 33,
   "metadata": {},
   "outputs": [
    {
     "name": "stdout",
     "output_type": "stream",
     "text": [
      "30.0\n",
      "15.0\n",
      "12.0\n"
     ]
    }
   ],
   "source": [
    "# program to solve above problem statement\n",
    "\n",
    "def ave_spd(up_t,up_r,down_r):\n",
    "    \n",
    "    distance = up_t/60 * up_r\n",
    "    down_t = distance / down_r\n",
    "    ave_speed = (2*distance)/ (up_t/60+down_t)\n",
    "    \n",
    "    print(ave_speed)\n",
    "    \n",
    "ave_spd(18, 20, 60)\n",
    "ave_spd(30, 10, 30)\n",
    "ave_spd(30, 8, 24)"
   ]
  },
  {
   "cell_type": "code",
   "execution_count": null,
   "metadata": {},
   "outputs": [],
   "source": [
    "4.) The Kempner Function, applied to a composite number, permits to find the\n",
    "smallest integer greater than zero whose factorial is exactly divided by the\n",
    "number.\n",
    "kempner(6) ➞ 3\n",
    "1! = 1 % 6 &gt; 0\n",
    "2! = 2 % 6 &gt; 0\n",
    "3! = 6 % 6 === 0\n",
    "kempner(10) ➞ 5\n",
    "1! = 1 % 10 &gt; 0\n",
    "2! = 2 % 10 &gt; 0\n",
    "3! = 6 % 10 &gt; 0\n",
    "4! = 24 % 10 &gt; 0\n",
    "5! = 120 % 10 === 0\n",
    "A Kempner Function applied to a prime will always return the prime itself.\n",
    "kempner(2) ➞ 2\n",
    "kempner(5) ➞ 5\n",
    "\n",
    "Given an integer n, implement a Kempner Function.\n",
    "Examples\n",
    "kempner(6) ➞ 3\n",
    "kempner(10) ➞ 5\n",
    "kempner(2) ➞ 2"
   ]
  },
  {
   "cell_type": "code",
   "execution_count": 2,
   "metadata": {},
   "outputs": [
    {
     "name": "stdout",
     "output_type": "stream",
     "text": [
      "3\n",
      "5\n",
      "2\n",
      "5\n"
     ]
    }
   ],
   "source": [
    "# program to solve the above problem statement\n",
    "\n",
    "def kempner(num):\n",
    "    \n",
    "    # Function to check if number is prime or not\n",
    "    def is_prime(num):\n",
    "        if num > 1:\n",
    "            for i in range(2,num//2+1):\n",
    "                if num%i == 0:\n",
    "                    return False\n",
    "            else:\n",
    "                return num\n",
    "        else:\n",
    "            return num\n",
    "    \n",
    "    # calculating factorial of the number\n",
    "    def factorial(num):\n",
    "        if num == 1:\n",
    "            return num\n",
    "        else:\n",
    "            fact = num * factorial(num-1)\n",
    "            return fact\n",
    "    \n",
    "    # Implementing kempner function\n",
    "    if is_prime(num):\n",
    "        return num\n",
    "    else:\n",
    "        count = 1\n",
    "        while True:\n",
    "            if factorial(count) % num == 0:\n",
    "                return count\n",
    "            else:\n",
    "                count += 1\n",
    "        \n",
    "print(kempner(6))        \n",
    "print(kempner(10)) \n",
    "print(kempner(2)) \n",
    "print(kempner(5)) "
   ]
  },
  {
   "cell_type": "code",
   "execution_count": null,
   "metadata": {},
   "outputs": [],
   "source": [
    "5.) You work in a factory, and your job is to take items from a conveyor belt\n",
    "and pack them into boxes. Each box can hold a maximum of 10 kgs. Given a\n",
    "list containing the weight (in kg) of each item, how many boxes would you\n",
    "need to pack all of the items?\n",
    "Example\n",
    "boxes([2, 1, 2, 5, 4, 3, 6, 1, 1, 9, 3, 2]) ➞ 5\n",
    "# Box 1 = [2, 1, 2, 5] (10kg)\n",
    "# Box 2 = [4, 3] (7kg)\n",
    "# Box 3 = [6, 1, 1] (8kg)\n",
    "# Box 4 = [9] (9kg)\n",
    "# Box 5 = [3, 2] (5kg)"
   ]
  },
  {
   "cell_type": "code",
   "execution_count": 17,
   "metadata": {},
   "outputs": [
    {
     "name": "stdout",
     "output_type": "stream",
     "text": [
      "5\n"
     ]
    }
   ],
   "source": [
    "# Program to solve above function\n",
    "\n",
    "def boxes(lst):\n",
    "    boxes = int()\n",
    "    \n",
    "    counter = 0\n",
    "    temp = lst[counter]\n",
    "    while counter < len(lst)-1:\n",
    "        if temp + lst[counter+1] < 10:\n",
    "            temp += lst[counter]\n",
    "            counter += 1\n",
    "        elif temp + lst[counter+1] == 10:\n",
    "            boxes += 1\n",
    "            try:\n",
    "                temp = lst[counter+2]\n",
    "                counter += 1\n",
    "            except:\n",
    "                break\n",
    "        elif temp + lst[counter + 1] > 10:\n",
    "            boxes += 1\n",
    "            temp = lst[counter + 1]\n",
    "            counter += 1\n",
    "            \n",
    "        else:\n",
    "            pass\n",
    "            \n",
    "    print(boxes)\n",
    "    \n",
    "        \n",
    "        \n",
    "    #print(boxes)\n",
    "    \n",
    "boxes([2, 1, 2, 5, 4, 3, 6, 1, 1, 9, 3, 2])    "
   ]
  },
  {
   "cell_type": "code",
   "execution_count": null,
   "metadata": {},
   "outputs": [],
   "source": []
  }
 ],
 "metadata": {
  "kernelspec": {
   "display_name": "Python 3",
   "language": "python",
   "name": "python3"
  },
  "language_info": {
   "codemirror_mode": {
    "name": "ipython",
    "version": 3
   },
   "file_extension": ".py",
   "mimetype": "text/x-python",
   "name": "python",
   "nbconvert_exporter": "python",
   "pygments_lexer": "ipython3",
   "version": "3.8.5"
  }
 },
 "nbformat": 4,
 "nbformat_minor": 4
}
