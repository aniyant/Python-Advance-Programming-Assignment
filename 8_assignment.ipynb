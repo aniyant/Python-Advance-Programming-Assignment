{
 "cells": [
  {
   "cell_type": "code",
   "execution_count": null,
   "metadata": {},
   "outputs": [],
   "source": [
    "1.) Given a sentence as txt, return True if any two adjacent words have this\n",
    "property: One word ends with a vowel, while the word immediately after\n",
    "begins with a vowel (a e i o u).\n",
    "Examples\n",
    "vowel_links(\"a very large appliance\") ➞ True\n",
    "vowel_links(\"go to edabit\") ➞ True\n",
    "vowel_links(\"an open fire\") ➞ False\n",
    "vowel_links(\"a sudden applause\") ➞ False"
   ]
  },
  {
   "cell_type": "code",
   "execution_count": 15,
   "metadata": {},
   "outputs": [
    {
     "name": "stdout",
     "output_type": "stream",
     "text": [
      "True\n",
      "True\n",
      "False\n",
      "False\n"
     ]
    }
   ],
   "source": [
    "# program to solve the above problem statement\n",
    "\n",
    "def vowel_links(string):\n",
    "    string = string.split(' ')\n",
    "    \n",
    "    f,s,flag = 0,1,False\n",
    "    vow = ['a','e','i','o','u']\n",
    "    while s < len(string):\n",
    "        for i in range(f,s+1):\n",
    "            if (string[f][-1] in vow) and (string[s][0] in vow):\n",
    "                flag = True\n",
    "                return flag\n",
    "        \n",
    "        f += 1\n",
    "        s += 1\n",
    "        \n",
    "    return flag\n",
    "\n",
    "print(vowel_links(\"a very large appliance\"))\n",
    "print(vowel_links(\"go to edabit\"))\n",
    "print(vowel_links(\"an open fire\") )\n",
    "print(vowel_links(\"a sudden applause\"))            "
   ]
  },
  {
   "cell_type": "code",
   "execution_count": null,
   "metadata": {},
   "outputs": [],
   "source": [
    "2.) You are given three inputs: a string, one letter, and a second letter.\n",
    "Write a function that returns True if every instance of the first letter occurs\n",
    "before every instance of the second letter.\n",
    "Examples\n",
    "first_before_second(\"a rabbit jumps joyfully\", \"a\", \"j\") ➞ True\n",
    "# Every instance of \"a\" occurs before every instance of \"j\".\n",
    "first_before_second(\"knaves knew about waterfalls\", \"k\", \"w\") ➞ True\n",
    "first_before_second(\"happy birthday\", \"a\", \"y\") ➞ False\n",
    "# The \"a\" in \"birthday\" occurs after the \"y\" in \"happy\".\n",
    "first_before_second(\"precarious kangaroos\", \"k\", \"a\") ➞ False"
   ]
  },
  {
   "cell_type": "code",
   "execution_count": 37,
   "metadata": {},
   "outputs": [
    {
     "name": "stdout",
     "output_type": "stream",
     "text": [
      "True\n",
      "True\n",
      "False\n",
      "False\n"
     ]
    }
   ],
   "source": [
    "# program to solve the above problem \n",
    "\n",
    "def first_before_second(string,first,second):\n",
    "    rev_string = string[::-1]\n",
    "    flag = True\n",
    "    for i in range(rev_string.index(first),len(string)):\n",
    "        if rev_string[i] == second:\n",
    "            return False\n",
    "    \n",
    "    return flag\n",
    "        \n",
    "print(first_before_second(\"a rabbit jumps joyfully\", \"a\", \"j\"))\n",
    "# Every instance of \"a\" occurs before every instance of \"j\".\n",
    "print(first_before_second(\"knaves knew about waterfalls\", \"k\", \"w\"))\n",
    "print(first_before_second(\"happy birthday\", \"a\", \"y\")) \n",
    "# The \"a\" in \"birthday\" occurs after the \"y\" in \"happy\".\n",
    "print(first_before_second(\"precarious kangaroos\", \"k\", \"a\"))"
   ]
  },
  {
   "cell_type": "code",
   "execution_count": null,
   "metadata": {},
   "outputs": [],
   "source": [
    "3.) Create a function that returns the characters from a list or string r on odd or\n",
    "even positions, depending on the specifier s. The specifier will be \"odd\" for\n",
    "items on odd positions (1, 3, 5, ...) and \"even\" for items on even positions (2,\n",
    "4, 6, ...).\n",
    "Examples\n",
    "char_at_pos([2, 4, 6, 8, 10], \"even\") ➞ [4, 8]\n",
    "# 4 &amp; 8 occupy the 2nd &amp; 4th positions\n",
    "char_at_pos(\"EDABIT\", \"odd\") ➞ \"EAI\"\n",
    "# \"E\", \"A\" and \"I\" occupy the 1st, 3rd and 5th positions\n",
    "char_at_pos([\"A\", \"R\", \"B\", \"I\", \"T\", \"R\", \"A\", \"R\", \"I\", \"L\", \"Y\"], \"odd\") ➞ [\"A\",\"B\", \"T\", \"A\", \"I\", \"Y\"]"
   ]
  },
  {
   "cell_type": "code",
   "execution_count": 41,
   "metadata": {},
   "outputs": [
    {
     "name": "stdout",
     "output_type": "stream",
     "text": [
      "[4, 8]\n",
      "['E', 'A', 'I']\n",
      "['A', 'B', 'T', 'A', 'Y']\n"
     ]
    }
   ],
   "source": [
    "# program to solve above problem\n",
    "\n",
    "def char_at_pos(lst,string):\n",
    "    temp = []\n",
    "    for l in lst:\n",
    "        if string == \"even\":\n",
    "            if (lst.index(l)+1) % 2 == 0:\n",
    "                temp.append(l)\n",
    "        else:\n",
    "            if (lst.index(l)+1) % 2 == 1:\n",
    "                temp.append(l)\n",
    "    print(temp)\n",
    "\n",
    "char_at_pos([2, 4, 6, 8, 10], \"even\")\n",
    "# 4 &amp; 8 occupy the 2nd &amp; 4th positions\n",
    "char_at_pos(\"EDABIT\", \"odd\")\n",
    "# \"E\", \"A\" and \"I\" occupy the 1st, 3rd and 5th positions\n",
    "char_at_pos([\"A\", \"R\", \"B\", \"I\", \"T\", \"R\", \"A\", \"R\", \"I\", \"L\", \"Y\"], \"odd\")"
   ]
  },
  {
   "cell_type": "code",
   "execution_count": null,
   "metadata": {},
   "outputs": [],
   "source": [
    "4.) Write a function that returns the greatest common divisor of all list\n",
    "elements. If the greatest common divisor is 1, return 1.\n",
    "Examples\n",
    "GCD([10, 20, 40]) ➞ 10\n",
    "GCD([1, 2, 3, 100]) ➞ 1\n",
    "GCD([1024, 192, 2048, 512]) ➞ 64"
   ]
  },
  {
   "cell_type": "code",
   "execution_count": 43,
   "metadata": {},
   "outputs": [
    {
     "name": "stdout",
     "output_type": "stream",
     "text": [
      "10\n",
      "1\n",
      "64\n"
     ]
    }
   ],
   "source": [
    "# program to find the greates common divisor of list\n",
    "\n",
    "def GCD(lst):\n",
    "    \n",
    "    def find_gcd(x, y):\n",
    "\t\n",
    "        while(y):\n",
    "            x, y = y, x % y\n",
    "\n",
    "        return x\n",
    "    \n",
    "\t\t\n",
    "    l = lst\n",
    "\n",
    "    num1 = l[0]\n",
    "    num2 = l[1]\n",
    "    gcd = find_gcd(num1, num2)\n",
    "\n",
    "    for i in range(2, len(l)):\n",
    "        gcd = find_gcd(gcd, l[i])\n",
    "        \n",
    "    print(gcd)\n",
    "\n",
    "GCD([10, 20, 40])\n",
    "GCD([1, 2, 3, 100])\n",
    "GCD([1024, 192, 2048, 512])"
   ]
  },
  {
   "cell_type": "code",
   "execution_count": null,
   "metadata": {},
   "outputs": [],
   "source": [
    "5. A number/string is a palindrome if the digits/characters are the same when\n",
    "read both forward and backward. Examples include &quot;racecar&quot; and 12321.\n",
    "Given a positive number n, check if n or the binary representation of n is\n",
    "palindromic. Return the following:\n",
    "- \"Decimal only.\" if only n is a palindrome.\n",
    "- \"Binary only.\" if only the binary representation of n is a palindrome.\n",
    "- \"Decimal and binary.\" if both are palindromes.\n",
    "- \"Neither!\" if neither are palindromes.\n",
    "Examples\n",
    "palindrome_type(1306031) ➞ \"Decimal only.\"\n",
    "# decimal = 1306031\n",
    "# binary = \"100111110110110101111\"\n",
    "palindrome_type(427787) ➞ \"Binary only.\"\n",
    "# decimal = 427787\n",
    "# binary = \"1101000011100001011\"\n",
    "palindrome_type(313) ➞ \"Decimal and binary.\"\n",
    "# decimal = 313\n",
    "# binary = 100111001\n",
    "palindrome_type(934) ➞ \"Neither!\"\n",
    "# decimal = 934# binary = \"1110100110\""
   ]
  },
  {
   "cell_type": "code",
   "execution_count": 55,
   "metadata": {},
   "outputs": [
    {
     "name": "stdout",
     "output_type": "stream",
     "text": [
      "decimal only\n",
      "binary only\n",
      "decimal and binary\n",
      "Neither\n"
     ]
    }
   ],
   "source": [
    "# program to solve above problem\n",
    "\n",
    "def palindrome_type(num):\n",
    "    dec = str(num)\n",
    "    bi  = bin(num)[2:]\n",
    "    rd = (dec == dec[::-1])\n",
    "    rb = (bi == bi[::-1])\n",
    "    \n",
    "    if rd and rb:\n",
    "        print(\"decimal and binary\")\n",
    "    elif rd is True and rb is False:\n",
    "        print('decimal only')\n",
    "        \n",
    "    elif rd is False and rb is True:\n",
    "        print('binary only')\n",
    "    \n",
    "    else:\n",
    "        print(\"Neither\")\n",
    "        \n",
    "palindrome_type(1306031) \n",
    "# decimal = 1306031\n",
    "# binary = \"100111110110110101111\"\n",
    "palindrome_type(427787) \n",
    "# decimal = 427787\n",
    "# binary = \"1101000011100001011\"\n",
    "palindrome_type(313) \n",
    "# decimal = 313\n",
    "# binary = 100111001\n",
    "palindrome_type(934) \n",
    "# decimal = 934# binary = \"1110100110\"\n",
    "        "
   ]
  },
  {
   "cell_type": "code",
   "execution_count": null,
   "metadata": {},
   "outputs": [],
   "source": []
  }
 ],
 "metadata": {
  "kernelspec": {
   "display_name": "Python 3",
   "language": "python",
   "name": "python3"
  },
  "language_info": {
   "codemirror_mode": {
    "name": "ipython",
    "version": 3
   },
   "file_extension": ".py",
   "mimetype": "text/x-python",
   "name": "python",
   "nbconvert_exporter": "python",
   "pygments_lexer": "ipython3",
   "version": "3.8.5"
  }
 },
 "nbformat": 4,
 "nbformat_minor": 4
}
