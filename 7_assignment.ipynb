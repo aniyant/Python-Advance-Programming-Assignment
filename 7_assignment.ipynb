{
 "cells": [
  {
   "cell_type": "code",
   "execution_count": null,
   "metadata": {},
   "outputs": [],
   "source": [
    "1.) Write a function that counts how many concentric layers a rug.\n",
    "Examples\n",
    "count_layers([\"AAAA\",\n",
    "              \"ABBA\",\n",
    "              \"AAAA\"]) ➞ 2\n",
    "count_layers([\"AAAAAAAAA\",\n",
    "              \"ABBBBBBBA\",\n",
    "              \"ABBAAABBA\",\n",
    "              \"ABBBBBBBA\",\n",
    "              \"AAAAAAAAA\"]) ➞ 3\n",
    "count_layers(\"AAAAAAAAAAA\",\n",
    "             \"AABBBBBBBAA\",\n",
    "             \"AABCCCCCBAA\",\n",
    "             \"AABCAAACBAA\",\n",
    "             \"AABCADACBAA\",\n",
    "             \"AABCAAACBAA\",\n",
    "             \"AABCCCCCBAA\",\n",
    "             \"AABBBBBBBAA\",\n",
    "             \"AAAAAAAAAAA\"]) ➞ 5"
   ]
  },
  {
   "cell_type": "code",
   "execution_count": null,
   "metadata": {},
   "outputs": [],
   "source": [
    "NOT ABLE TO UNDERSTAND THE QUESTION..!"
   ]
  },
  {
   "cell_type": "code",
   "execution_count": null,
   "metadata": {},
   "outputs": [],
   "source": [
    "2.) There are many different styles of music and many albums exhibit multiple\n",
    "styles. Create a function that takes a list of musical styles from albums and\n",
    "returns how many styles are unique.\n",
    "Examples\n",
    "unique_styles([\"Dub,Dancehall\",\n",
    "               \"Industrial,Heavy Metal\",\n",
    "               \"Techno,Dubstep\",\n",
    "               \"Synth-pop,Euro-Disco\",\n",
    "               \"Industrial,Techno,Minimal\"]) ➞ 9\n",
    "\n",
    "unique_styles([\"Soul\",\n",
    "               \"House,Folk\",\n",
    "               \"Trance,Downtempo,Big Beat,House\",\n",
    "               \"Deep House\",\"Soul\"]) ➞ 7"
   ]
  },
  {
   "cell_type": "code",
   "execution_count": 47,
   "metadata": {},
   "outputs": [
    {
     "name": "stdout",
     "output_type": "stream",
     "text": [
      "number of styles:  9\n",
      "number of styles:  7\n"
     ]
    }
   ],
   "source": [
    "# program to solve the above problem statement\n",
    "\n",
    "def unique_styles(lst):\n",
    "    temp = set()\n",
    "    for l in lst:\n",
    "        for i in l.split(','):\n",
    "            temp.add(i)\n",
    "            \n",
    "    print(\"number of styles: \",len(temp))\n",
    "\n",
    "unique_styles([\"Dub,Dancehall\",\n",
    "               \"Industrial,Heavy Metal\",\n",
    "               \"Techno,Dubstep\",\n",
    "               \"Synth-pop,Euro-Disco\",\n",
    "               \"Industrial,Techno,Minimal\"])\n",
    "\n",
    "unique_styles([\"Soul\",\n",
    "               \"House,Folk\",\n",
    "               \"Trance,Downtempo,Big Beat,House\",\n",
    "               \"Deep House\",\"Soul\"])"
   ]
  },
  {
   "cell_type": "code",
   "execution_count": null,
   "metadata": {},
   "outputs": [],
   "source": [
    "3.) Create a function that finds a target number in a list of prime numbers.\n",
    "Implement a binary search algorithm in your function. The target number will\n",
    "be from 2 through 97. If the target is prime then return &quot;yes&quot; else return &quot;no&quot;.\n",
    "Examples\n",
    "primes = [2, 3, 5, 7, 11, 13, 17, 19, 23, 29, 31, 37, 41, 43, 47, 53, 59, 61, 67,\n",
    "71, 73, 79, 83, 89, 97]\n",
    "\n",
    "is_prime(primes, 3) ➞ \"yes\"\n",
    "is_prime(primes, 4) ➞ \"no\"\n",
    "is_prime(primes, 67) ➞ \"yes\"\n",
    "is_prime(primes, 36) ➞ \"no\""
   ]
  },
  {
   "cell_type": "code",
   "execution_count": 55,
   "metadata": {},
   "outputs": [
    {
     "name": "stdout",
     "output_type": "stream",
     "text": [
      "no\n",
      "yes\n",
      "no\n",
      "yes\n"
     ]
    }
   ],
   "source": [
    "# program to find the target prime number in a list of primes\n",
    "primes = [2, 3, 5, 7, 11, 13, 17, 19, 23, 29, 31, 37, 41, 43, 47, 53, 59, 61, 67,\n",
    "71, 73, 79, 83, 89, 97]\n",
    "\n",
    "def is_prime(primes,num):\n",
    "    if num in primes:\n",
    "        print(\"yes\")\n",
    "    else:\n",
    "        print(\"no\")\n",
    "    \n",
    "            \n",
    "is_prime(primes, 36)   \n",
    "is_prime(primes, 3)\n",
    "is_prime(primes, 4) \n",
    "is_prime(primes, 67)    \n",
    "    "
   ]
  },
  {
   "cell_type": "code",
   "execution_count": null,
   "metadata": {},
   "outputs": [],
   "source": [
    "4. )Create a function that takes in n, a, b and returns the number of positive\n",
    "values raised to the nth power that lie in the range [a, b], inclusive.\n",
    "Examples\n",
    "power_ranger(2, 49, 65) ➞ 2\n",
    "# 2 squares (n^2) lie between 49 and 65, 49 (7^2) and 64 (8^2)\n",
    "power_ranger(3, 1, 27) ➞ 3\n",
    "# 3 cubes (n^3) lie between 1 and 27, 1 (1^3), 8 (2^3) and 27 (3^3)\n",
    "power_ranger(10, 1, 5) ➞ 1\n",
    "# 1 value raised to the 10th power lies between 1 and 5, 1 (1^10)\n",
    "power_ranger(5, 31, 33) ➞ 1\n",
    "power_ranger(4, 250, 1300) ➞ 3"
   ]
  },
  {
   "cell_type": "code",
   "execution_count": 71,
   "metadata": {},
   "outputs": [
    {
     "name": "stdout",
     "output_type": "stream",
     "text": [
      "2\n",
      "3\n",
      "1\n",
      "1\n",
      "3\n"
     ]
    }
   ],
   "source": [
    "# program to solve the above problem statement\n",
    "\n",
    "def power_ranger(n,a,b):\n",
    "    temp = []\n",
    "    \n",
    "    for i in range(1,round(b**(1/n))+1):\n",
    "        if (i ** n) in [i for i in range(a,b+1)]:\n",
    "            temp.append(i)\n",
    "    print(len(temp))\n",
    "\n",
    "power_ranger(2, 49, 65)\n",
    "# 2 squares (n^2) lie between 49 and 65, 49 (7^2) and 64 (8^2)\n",
    "power_ranger(3, 1, 27)\n",
    "# 3 cubes (n^3) lie between 1 and 27, 1 (1^3), 8 (2^3) and 27 (3^3)\n",
    "power_ranger(10, 1, 5)\n",
    "# 1 value raised to the 10th power lies between 1 and 5, 1 (1^10)\n",
    "power_ranger(5, 31, 33)\n",
    "power_ranger(4, 250, 1300)\n"
   ]
  },
  {
   "cell_type": "code",
   "execution_count": null,
   "metadata": {},
   "outputs": [],
   "source": [
    "5.) Given a number, return the difference between the maximum and minimum\n",
    "numbers that can be formed when the digits are rearranged.\n",
    "Examples\n",
    "rearranged_difference(972882) ➞ 760833\n",
    "# 988722 - 227889 = 760833\n",
    "rearranged_difference(3320707) ➞ 7709823\n",
    "# 7733200 - 23377 = 7709823\n",
    "rearranged_difference(90010) ➞ 90981\n",
    "# 91000 - 19 = 90981"
   ]
  },
  {
   "cell_type": "code",
   "execution_count": 87,
   "metadata": {},
   "outputs": [
    {
     "name": "stdout",
     "output_type": "stream",
     "text": [
      "760833\n",
      "7709823\n",
      "90981\n"
     ]
    }
   ],
   "source": [
    "# program to solve above problem\n",
    "\n",
    "def rearranged_difference(num):\n",
    "    num = list(str(num))\n",
    "    num.sort()\n",
    "    maximum = int(''.join(num[::-1]))\n",
    "    minimum = int(''.join(num))\n",
    "    \n",
    "    print(maximum - minimum)\n",
    " \n",
    "rearranged_difference(972882) \n",
    "# 988722 - 227889 = 760833\n",
    "rearranged_difference(3320707)\n",
    "# 7733200 - 23377 = 7709823\n",
    "rearranged_difference(90010) \n",
    "# 91000 - 19 = 90981"
   ]
  },
  {
   "cell_type": "code",
   "execution_count": null,
   "metadata": {},
   "outputs": [],
   "source": []
  }
 ],
 "metadata": {
  "kernelspec": {
   "display_name": "Python 3",
   "language": "python",
   "name": "python3"
  },
  "language_info": {
   "codemirror_mode": {
    "name": "ipython",
    "version": 3
   },
   "file_extension": ".py",
   "mimetype": "text/x-python",
   "name": "python",
   "nbconvert_exporter": "python",
   "pygments_lexer": "ipython3",
   "version": "3.8.5"
  }
 },
 "nbformat": 4,
 "nbformat_minor": 4
}
